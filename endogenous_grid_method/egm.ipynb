{
 "cells": [
  {
   "cell_type": "code",
   "execution_count": 2,
   "metadata": {},
   "outputs": [],
   "source": [
    "using CairoMakie, Dierckx, Optim, LinearAlgebra, QuantEcon"
   ]
  },
  {
   "cell_type": "code",
   "execution_count": 3,
   "metadata": {},
   "outputs": [
    {
     "data": {
      "text/plain": [
       "(α = 0.33, β = 0.9, A = 10.0, γ = 1.0, δ = 0.1, nk = 31, θ = 3, lb = 0.0, ub = 1000.0, nz = 19, ρ = 0.9, μ = 0.0, σ = 0.007, toler = 1.0e-6, maxiter = 10000)"
      ]
     },
     "metadata": {},
     "output_type": "display_data"
    }
   ],
   "source": [
    "pars = (;α = 0.33, # Capital share\n",
    "        β = 0.9, # Discount factor\n",
    "        A = 10.0, # TFP\n",
    "        γ = 1.0, # Risk aversion\n",
    "        δ = 0.1, # Depreciation rate\n",
    "        nk = 31, # Number of capital gridpoints\n",
    "        θ = 3, # Grid expansion parameter\n",
    "        lb = 0.00, # Lower bound of capital grid\n",
    "        ub = 1000.0, # Upper bound of capital grid\n",
    "        nz = 19, # Number of shock gridpoints\n",
    "        ρ = 0.9, # Persistence of AR(1) process\n",
    "        μ = 0.0, # Mean of AR(1) process\n",
    "        σ = 0.007, # Var of AR(1) process\n",
    "        toler = 1e-6, # Tolerance\n",
    "        maxiter = 10000) # Maximum number of iterations"
   ]
  },
  {
   "cell_type": "code",
   "execution_count": 24,
   "metadata": {},
   "outputs": [
    {
     "data": {
      "text/plain": [
       "resource_grid (generic function with 1 method)"
      ]
     },
     "metadata": {},
     "output_type": "display_data"
    }
   ],
   "source": [
    "function utility(c)#, pars)\n",
    "    #(; γ) = pars\n",
    "    if pars.γ == 1.0\n",
    "        return log(c)\n",
    "    else\n",
    "        return (c^(1-γ)) / (1-γ)\n",
    "    end\n",
    "end\n",
    "\n",
    "function ar1(pars)\n",
    "    (; μ, ρ, σ, nz) = pars\n",
    "    mc = rouwenhorst(nz, μ, ρ, σ)\n",
    "    Π, Zvals = mc.p, exp.(mc.state_values)\n",
    "    return Π, Zvals\n",
    "end\n",
    "\n",
    "function exp_grid(pars)\n",
    "    (; nk, θ, lb, ub) = pars\n",
    "    grid = LinRange(1e-4, 1.0, nk)\n",
    "    expgrid = lb .+ (ub .- lb) .* grid.^θ\n",
    "    return expgrid\n",
    "end\n",
    "\n",
    "function interpolate(grid, vals, pars)\n",
    "    spline = Spline1D(grid, vals, k = 3, bc = \"extrapolate\")\n",
    "    return spline\n",
    "end\n",
    "\n",
    "function production(k, z ,pars)\n",
    "    (; α, δ, A) = pars\n",
    "    return A * z * (k ^ α) + (1.0 - δ) * k\n",
    "end\n",
    "\n",
    "function initial_guess(grid, pars)\n",
    "    (; nk, nz) = pars\n",
    "    v = ones(nk, nz)\n",
    "    v_out = zeros(nk, nz)\n",
    "    for j in 1:nz\n",
    "        v_out[:,j] = utility.(grid)#, pars)\n",
    "    end\n",
    "    return v_out\n",
    "end\n",
    "\n",
    "function resource_grid(kgrid, zgrid, pars)\n",
    "    (; nk, nz) = pars\n",
    "    Ygrid = zeros(nk, nz)\n",
    "    for i in 1:nk\n",
    "        for j in 1:nz\n",
    "            Ygrid[i,j] = production(kgrid[i], zgrid[j], pars)\n",
    "        end\n",
    "    end\n",
    "    return Ygrid\n",
    "end\n",
    "\n",
    "#test_Π, test_Zvals = ar1(pars)\n",
    "#test_grid = exp_grid(pars)\n",
    "#test_v = ones(pars.nk)\n",
    "#test_interp = interpolate(test_grid, test_v, pars)\n",
    "#test_deriv = Dierckx.derivative(test_interp, 15.0)\n",
    "#test_production = production(test_grid[19], test_Zvals[1], pars)\n",
    "#test_init = initial_guess(test_grid, pars)"
   ]
  },
  {
   "cell_type": "code",
   "execution_count": 25,
   "metadata": {},
   "outputs": [
    {
     "name": "stdout",
     "output_type": "stream",
     "text": [
      "Iterating...\n"
     ]
    },
    {
     "data": {
      "text/plain": [
       "31×19 Matrix{Float64}:\n",
       "   0.000236996    0.00036224    0.000553671  …     0.321429     0.491292\n",
       "   0.108378       0.147883      0.208265         101.42       154.999\n",
       "   0.416044       0.494392      0.614144         201.342      307.602\n",
       "   1.12381        1.24079       1.41961          301.144      459.812\n",
       "   2.43174        2.58724       2.82491          401.211      612.108\n",
       "   4.53985        4.73376       5.03015      …   501.829      764.823\n",
       "   7.64812        7.88036       8.23534          603.25       918.236\n",
       "  11.9565        12.227        12.6405           705.705     1072.6\n",
       "  17.665         17.9737       18.4456           809.421     1228.15\n",
       "  24.9734        25.3203       25.8506           914.614     1385.1\n",
       "   ⋮                                         ⋱               \n",
       " 356.562        357.402       358.687           2511.47      3651.1\n",
       " 407.265        408.143       409.485           2659.11      3850.0\n",
       " 462.568        463.483       464.883           2811.3       4053.44\n",
       " 522.669        523.623       525.08         …  2968.26      4261.62\n",
       " 587.77         588.761       590.276           3130.17      4474.73\n",
       " 658.069        659.098       660.671           3297.25      4692.99\n",
       " 733.768        734.835       736.465           3469.69      4916.59\n",
       " 815.065        816.17        817.858           3647.69      5145.74\n",
       " 902.161        903.304       905.05         …  3831.46      5380.64"
      ]
     },
     "metadata": {},
     "output_type": "display_data"
    }
   ],
   "source": [
    "function egm(pars)\n",
    "    (; nk, nz, toler, maxiter) = pars\n",
    "    Π, Zvals = ar1(pars)\n",
    "    Kvals = exp_grid(pars)\n",
    "    v = initial_guess(exp_grid(pars), pars)\n",
    "    v_new = zeros(nk, nz)\n",
    "    c = zeros(nk, nz)\n",
    "    derivatives = zeros(nk, nz)\n",
    "    Yvals = resource_grid(Kvals, Zvals, pars)\n",
    "    error = toler + 1\n",
    "    iter = 0\n",
    "    if iter == 0\n",
    "        println(\"Iterating...\")\n",
    "    end\n",
    "    return #Yvals\n",
    "    while ((error > toler) && (iter < maxiter))\n",
    "end\n",
    "\n",
    "test = egm(pars)\n",
    "    "
   ]
  }
 ],
 "metadata": {
  "kernelspec": {
   "display_name": "Julia 1.10.1",
   "language": "julia",
   "name": "julia-1.10"
  },
  "language_info": {
   "file_extension": ".jl",
   "mimetype": "application/julia",
   "name": "julia",
   "version": "1.10.1"
  }
 },
 "nbformat": 4,
 "nbformat_minor": 2
}
