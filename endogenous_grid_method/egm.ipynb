{
 "cells": [
  {
   "cell_type": "code",
   "execution_count": 13,
   "metadata": {},
   "outputs": [],
   "source": [
    "using CairoMakie, Dierckx, Optim, LinearAlgebra, QuantEcon"
   ]
  },
  {
   "cell_type": "code",
   "execution_count": 14,
   "metadata": {},
   "outputs": [
    {
     "data": {
      "text/plain": [
       "(α = 0.33, β = 0.9, A = 10.0, γ = 1.0, δ = 0.1, nk = 31, θ = 4, lb = 0.0, ub = 1000.0, nz = 19, ρ = 0.9, μ = 0.0, σ = 0.007, toler = 1.0e-6, maxiter = 10000)"
      ]
     },
     "metadata": {},
     "output_type": "display_data"
    }
   ],
   "source": [
    "pars = (;α = 0.33, # Capital share\n",
    "        β = 0.9, # Discount factor\n",
    "        A = 10.0, # TFP\n",
    "        γ = 1.0, # Risk aversion\n",
    "        δ = 0.1, # Depreciation rate\n",
    "        nk = 31, # Number of capital gridpoints\n",
    "        θ = 4, # Grid expansion parameter\n",
    "        lb = 0.00, # Lower bound of capital grid\n",
    "        ub = 1000.0, # Upper bound of capital grid\n",
    "        nz = 19, # Number of shock gridpoints\n",
    "        ρ = 0.9, # Persistence of AR(1) process\n",
    "        μ = 0.0, # Mean of AR(1) process\n",
    "        σ = 0.007, # Var of AR(1) process\n",
    "        toler = 1e-6, # Tolerance\n",
    "        maxiter = 10000) # Maximum number of iterations"
   ]
  },
  {
   "cell_type": "code",
   "execution_count": 15,
   "metadata": {},
   "outputs": [
    {
     "data": {
      "text/plain": [
       "resource_grid (generic function with 1 method)"
      ]
     },
     "metadata": {},
     "output_type": "display_data"
    }
   ],
   "source": [
    "function utility(c)\n",
    "    if pars.γ == 1.0\n",
    "        return log(c)\n",
    "    else\n",
    "        return (c^(1-pars.γ)) / (1-pars.γ)\n",
    "    end\n",
    "end\n",
    "\n",
    "function ar1(pars)\n",
    "    (; μ, ρ, σ, nz) = pars\n",
    "    mc = rouwenhorst(nz, μ, ρ, σ)\n",
    "    Π, Zvals = mc.p, exp.(mc.state_values)\n",
    "    return Π, Zvals\n",
    "end\n",
    "\n",
    "function exp_grid(pars)\n",
    "    (; nk, θ, lb, ub) = pars\n",
    "    grid = LinRange(1e-4, 1.0, nk)\n",
    "    expgrid = lb .+ (ub .- lb) .* grid.^θ\n",
    "    return expgrid\n",
    "end\n",
    "\n",
    "function interpolate(grid, vals, pars)\n",
    "    spline = Spline1D(grid, vals, k = 1, bc = \"extrapolate\")\n",
    "    return spline\n",
    "end\n",
    "\n",
    "function production(k, z ,pars)\n",
    "    (; α, δ, A) = pars\n",
    "    return A * z * (k ^ α) + (1.0 - δ) * k\n",
    "end\n",
    "\n",
    "function initial_guess(grid, pars)\n",
    "    (; nk, nz) = pars\n",
    "    v = ones(nk, nz)\n",
    "    v_out = zeros(nk, nz)\n",
    "    for j in 1:nz\n",
    "        v_out[:,j] = utility.(grid)\n",
    "    end\n",
    "    return v_out\n",
    "end\n",
    "\n",
    "function resource_grid(kgrid, zgrid, pars)\n",
    "    (; nk, nz) = pars\n",
    "    Ygrid = zeros(nk, nz)\n",
    "    for i in 1:nk\n",
    "        for j in 1:nz\n",
    "            Ygrid[i,j] = production(kgrid[i], zgrid[j], pars)\n",
    "        end\n",
    "    end\n",
    "    return Ygrid\n",
    "end"
   ]
  },
  {
   "cell_type": "code",
   "execution_count": 29,
   "metadata": {},
   "outputs": [
    {
     "name": "stdout",
     "output_type": "stream",
     "text": [
      "Iterating...\n",
      "--------------------\n",
      "Iteration: 0, Error: 2.4950651087663642\n",
      "--------------------\n",
      "Iteration: 10, Error: 0.06487028005195125\n",
      "--------------------\n",
      "Iteration: 20, Error: 0.016215586365355816\n",
      "--------------------\n",
      "Iteration: 30, Error: 0.0051302026572092665\n",
      "--------------------\n",
      "Iteration: 40, Error: 0.0017318089522014716\n",
      "--------------------\n",
      "Iteration: 50, Error: 0.000597154420308118\n",
      "--------------------\n",
      "Iteration: 60, Error: 0.00020741056332557623\n",
      "--------------------\n",
      "Iteration: 70, Error: 7.222215213126745e-5\n",
      "--------------------\n",
      "Iteration: 80, Error: 2.5170473844820828e-5\n",
      "--------------------\n",
      "Iteration: 90, Error: 8.774963334097296e-6\n",
      "--------------------\n",
      "Iteration: 100, Error: 3.0594656874694094e-6\n",
      "--------------------\n",
      "Iteration: 110, Error: 1.0667484674043117e-6\n",
      "--------------------\n",
      "Converged in 112 iterations\n",
      "--------------------\n"
     ]
    },
    {
     "data": {
      "text/plain": [
       "31×19 Matrix{Float64}:\n",
       " -56.0665  -56.0665  -56.0665  -56.0665  …  -56.0665  -56.0665  -56.0665\n",
       "  25.4719   25.4719   25.4719   25.4719      25.4719   25.4719   25.4719\n",
       "  26.9597   26.9597   26.9597   26.9597      26.9597   26.9597   26.9597\n",
       "  27.892    27.892    27.892    27.892       27.892    27.892    27.892\n",
       "  28.6088   28.6088   28.6088   28.6088      28.6088   28.6088   28.6088\n",
       "  29.206    29.206    29.206    29.206   …   29.206    29.206    29.206\n",
       "  29.7487   29.7487   29.7487   29.7487      29.7487   29.7487   29.7487\n",
       "  30.2751   30.2751   30.2751   30.2751      30.2751   30.2751   30.2751\n",
       "  30.7688   30.7688   30.7688   30.7688      30.7688   30.7688   30.7688\n",
       "  31.2535   31.2535   31.2535   31.2535      31.2535   31.2535   31.2535\n",
       "   ⋮                                     ⋱                      \n",
       "  37.7055   37.7055   37.7055   37.7055      37.7055   37.7055   37.7055\n",
       "  38.2182   38.2182   38.2182   38.2182      38.2182   38.2182   38.2182\n",
       "  38.7313   38.7313   38.7313   38.7313      38.7313   38.7313   38.7313\n",
       "  39.2449   39.2449   39.2449   39.2449  …   39.2449   39.2449   39.2449\n",
       "  39.7578   39.7578   39.7578   39.7578      39.7578   39.7578   39.7578\n",
       "  40.2716   40.2716   40.2716   40.2716      40.2716   40.2716   40.2716\n",
       "  40.7859   40.7859   40.7859   40.7859      40.7859   40.7859   40.7859\n",
       "  41.301    41.301    41.301    41.301       41.301    41.301    41.301\n",
       "  41.8183   41.8183   41.8183   41.8183  …   41.8183   41.8183   41.8183"
      ]
     },
     "metadata": {},
     "output_type": "display_data"
    }
   ],
   "source": [
    "function egm(pars)\n",
    "    (; γ, nk, nz, toler, maxiter, β) = pars\n",
    "\n",
    "    Π, Zvals = ar1(pars)\n",
    "    Kvals = exp_grid(pars)\n",
    "\n",
    "    v1 = initial_guess(exp_grid(pars), pars)\n",
    "    v2 = zeros(nk, nz)\n",
    "    v3 = zeros(nk, nz)\n",
    "    v4 = zeros(nk, nz)\n",
    "\n",
    "    c = zeros(nk, nz)\n",
    "\n",
    "    derivatives = zeros(nk, nz)\n",
    "\n",
    "    Yvals = resource_grid(Kvals, Zvals, pars)\n",
    "    Ystar = zeros(nk, nz)\n",
    "\n",
    "    Kinterpolators = Vector{Spline1D}(undef, nz)\n",
    "    Yinterpolators = Vector{Spline1D}(undef, nz)\n",
    "\n",
    "    error = toler + 1\n",
    "    iter = 0\n",
    "    if iter == 0\n",
    "        println(\"Iterating...\")\n",
    "    end\n",
    "    while ((error > toler) && (iter < maxiter))\n",
    "        Kinterpolators = [interpolate(Kvals, v1[:,j], pars) for j in 1:nz]\n",
    "        for (j, interpolator) in enumerate(Kinterpolators)\n",
    "            derivatives[:,j] = Dierckx.derivative(interpolator, Kvals)\n",
    "        end\n",
    "        c = (derivatives).^(-1/γ)\n",
    "        Ystar = c .+ Kvals\n",
    "        v2 = utility.(c) .+ v1\n",
    "        Yinterpolators = [interpolate(Ystar[:,j], v2[:,j], pars) for j in 1:nz]\n",
    "        for (j, interpolator) in enumerate(Yinterpolators)\n",
    "            v3[:,j] = interpolator(Yvals[:,j])\n",
    "        end\n",
    "        v4 = β * (v3 * Π')\n",
    "        error = maximum(abs.(v4 - v1) ./ (1.0 .+ abs.(v1)))\n",
    "        if iter % 10 == 0\n",
    "            println(\"--------------------\")\n",
    "            println(\"Iteration: $iter, Error: $error\")\n",
    "        end\n",
    "        v1 .= v4\n",
    "        iter += 1\n",
    "    end\n",
    "    println(\"--------------------\")\n",
    "    println(\"Converged in $iter iterations\")\n",
    "    println(\"--------------------\")\n",
    "    return v1\n",
    "end\n",
    "test = egm(pars)  "
   ]
  }
 ],
 "metadata": {
  "kernelspec": {
   "display_name": "Julia 1.10.1",
   "language": "julia",
   "name": "julia-1.10"
  },
  "language_info": {
   "file_extension": ".jl",
   "mimetype": "application/julia",
   "name": "julia",
   "version": "1.10.1"
  }
 },
 "nbformat": 4,
 "nbformat_minor": 2
}
