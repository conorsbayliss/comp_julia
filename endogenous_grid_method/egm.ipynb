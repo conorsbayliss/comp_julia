{
 "cells": [
  {
   "cell_type": "code",
   "execution_count": 1,
   "metadata": {},
   "outputs": [],
   "source": [
    "using CairoMakie, Dierckx, Optim, LinearAlgebra, QuantEcon"
   ]
  },
  {
   "cell_type": "code",
   "execution_count": 14,
   "metadata": {},
   "outputs": [
    {
     "data": {
      "text/plain": [
       "(α = 0.33, β = 0.9, γ = 1.0, δ = 0.1, nk = 31, θ = 3, lb = 0.0, ub = 1000.0, nz = 19, ρ = 0.9, μ = 0.0, σ = 0.007, toler = 1.0e-6, maxiter = 10000)"
      ]
     },
     "metadata": {},
     "output_type": "display_data"
    }
   ],
   "source": [
    "pars = (;α = 0.33, # Capital share\n",
    "        β = 0.9, # Discount factor\n",
    "        γ = 1.0, # Risk aversion\n",
    "        δ = 0.1, # Depreciation rate\n",
    "        nk = 31, # Number of capital gridpoints\n",
    "        θ = 3, # Grid expansion parameter\n",
    "        lb = 0.00, # Lower bound of capital grid\n",
    "        ub = 1000.0, # Upper bound of capital grid\n",
    "        nz = 19, # Number of shock gridpoints\n",
    "        ρ = 0.9, # Persistence of AR(1) process\n",
    "        μ = 0.0, # Mean of AR(1) process\n",
    "        σ = 0.007, # Var of AR(1) process\n",
    "        toler = 1e-6, # Tolerance\n",
    "        maxiter = 10000) # Maximum number of iterations"
   ]
  },
  {
   "cell_type": "code",
   "execution_count": 17,
   "metadata": {},
   "outputs": [
    {
     "data": {
      "text/plain": [
       "Spline1D(knots=[0.0,0.296296 … 813.037,1000.0] (29 elements), k=3, extrapolation=\"extrapolate\", residual=0.0)"
      ]
     },
     "metadata": {},
     "output_type": "display_data"
    }
   ],
   "source": [
    "function utility(c, pars)\n",
    "    (; γ) = pars\n",
    "    if γ == 1.0\n",
    "        return log(c)\n",
    "    else\n",
    "        return (c^(1-γ)) / (1-γ)\n",
    "    end\n",
    "end\n",
    "\n",
    "function ar1(pars)\n",
    "    (; μ, ρ, σ, nz) = pars\n",
    "    mc = rouwenhorst(nz, μ, ρ, σ)\n",
    "    Π, Zvals = mc.p, mc.state_values\n",
    "    return Π, Zvals\n",
    "end\n",
    "\n",
    "function exp_grid(pars)\n",
    "    (; nk, θ, lb, ub) = pars\n",
    "    grid = LinRange(0.0, 1.0, nk)\n",
    "    expgrid = lb .+ (ub .- lb) .* grid.^θ\n",
    "    return expgrid\n",
    "end\n",
    "\n",
    "function interpolate(grid, vals, pars)\n",
    "    spline = Spline1D(grid, vals, k = 3, bc = \"extrapolate\")\n",
    "    return spline\n",
    "end\n",
    "\n",
    "test_grid = exp_grid(pars)\n",
    "test_v = ones(pars.nk)\n",
    "test_interp = interpolate(test_grid, test_v, pars)"
   ]
  }
 ],
 "metadata": {
  "kernelspec": {
   "display_name": "Julia 1.10.1",
   "language": "julia",
   "name": "julia-1.10"
  },
  "language_info": {
   "file_extension": ".jl",
   "mimetype": "application/julia",
   "name": "julia",
   "version": "1.10.1"
  }
 },
 "nbformat": 4,
 "nbformat_minor": 2
}
