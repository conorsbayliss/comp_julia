{
 "cells": [
  {
   "cell_type": "code",
   "execution_count": 89,
   "metadata": {},
   "outputs": [],
   "source": [
    "using CairoMakie, Dierckx, Optim, LinearAlgebra, QuantEcon"
   ]
  },
  {
   "cell_type": "code",
   "execution_count": 117,
   "metadata": {},
   "outputs": [
    {
     "data": {
      "text/plain": [
       "(α = 0.33, β = 0.96, A = 10.0, γ = 2.0, δ = 1.0, nk = 11, θ = 2, lb = 0, ub = 100.0, nz = 15, ρ = 0.98, μ = 0.5, σ = 0.01, toler = 1.0e-6, maxiter = 1, print_skip = 10)"
      ]
     },
     "metadata": {},
     "output_type": "display_data"
    }
   ],
   "source": [
    "pars = (;α = 0.33, # Capital share\n",
    "        β = 0.96, # Discount factor\n",
    "        A = 10.0, # TFP\n",
    "        γ = 2.0, # Risk aversion\n",
    "        δ = 1.0, # Depreciation rate\n",
    "        nk = 11, # Number of capital gridpoints\n",
    "        θ = 2, # Grid expansion parameter\n",
    "        lb = 0, # Lower bound of capital grid\n",
    "        ub = 100.0, # Upper bound of capital grid\n",
    "        nz = 15, # Number of shock gridpoints\n",
    "        ρ = 0.98, # Persistence of AR(1) process\n",
    "        μ = 0.5, # Mean of AR(1) process\n",
    "        σ = 0.01, # Var of AR(1) process\n",
    "        toler = 1e-6, # Tolerance\n",
    "        maxiter = 1, # Maximum number of iterations\n",
    "        print_skip = 10) # Print every x iterations"
   ]
  },
  {
   "cell_type": "code",
   "execution_count": 121,
   "metadata": {},
   "outputs": [
    {
     "data": {
      "text/plain": [
       "value (generic function with 1 method)"
      ]
     },
     "metadata": {},
     "output_type": "display_data"
    }
   ],
   "source": [
    "function utility(c)\n",
    "    if pars.γ == 1.0\n",
    "        return log(c)\n",
    "    else\n",
    "        return (c^(1-pars.γ)) / (1-pars.γ)\n",
    "    end\n",
    "end \n",
    "\n",
    "function ar1(pars)\n",
    "    (; μ, ρ, σ, nz) = pars\n",
    "    mc = rouwenhorst(nz, μ, ρ, σ)\n",
    "    @show mc.state_values\n",
    "    Π, Zvals = mc.p, exp.(mc.state_values)\n",
    "    return Π, Zvals\n",
    "end\n",
    "\n",
    "function exp_grid(pars)\n",
    "    (; nk, θ, lb, ub) = pars\n",
    "    grid = LinRange(1e-10, 1.0, nk)\n",
    "    expgrid = lb .+ (ub .- lb) .* grid.^θ\n",
    "    return expgrid\n",
    "end\n",
    "\n",
    "function interpolate(grid, vals, pars)\n",
    "    spline = Spline1D(grid, vals, k = 1, bc = \"extrapolate\")\n",
    "    return spline\n",
    "end\n",
    "\n",
    "function production(k, z ,pars)\n",
    "    (; α, δ, A) = pars\n",
    "    return A * z * (k ^ α) + (1.0 - δ) * k\n",
    "end\n",
    "\n",
    "function initial_guess(kgrid, zgrid, pars)\n",
    "    (; nk, nz) = pars\n",
    "    v_out = zeros(nk, nz)\n",
    "    for i in 1:nk\n",
    "        for j in 1:nz\n",
    "            v_out[i,j] = utility(production(kgrid[i], zgrid[j], pars))\n",
    "        end\n",
    "    end\n",
    "    return v_out\n",
    "end\n",
    "\n",
    "function resource_grid(kgrid, zgrid, pars)\n",
    "    (; nk, nz) = pars\n",
    "    Ygrid = zeros(nk, nz)\n",
    "    for i in 1:nk\n",
    "        for j in 1:nz\n",
    "            Ygrid[i,j] = production(kgrid[i], zgrid[j], pars)\n",
    "        end\n",
    "    end\n",
    "    return Ygrid\n",
    "end\n",
    "\n",
    "function capital(x, zgrid, res, pars)\n",
    "    (; nk, nz, lb) = pars\n",
    "    for i in 1:nk\n",
    "        for j in 1:nz\n",
    "            objective_function = k -> production(k, zgrid[j], pars) - res[i,j]\n",
    "            ub = production(k, zgrid[j], pars)\n",
    "            result = optimize(objective_function, lb, ub, Brent())\n",
    "            x[i,j] = result.minimizer\n",
    "        end\n",
    "    end\n",
    "    return x\n",
    "end\n",
    "\n",
    "function policy(pol, X, kgrid, pars)\n",
    "    (; nz) = pars\n",
    "    for j in 1:nz\n",
    "        spl = x -> Spline1D(X[:,j], kgrid, k = 1, bc = \"extrapolate\")(x)\n",
    "        pol[:,j] = spl.(kgrid)\n",
    "    end\n",
    "    return pol\n",
    "end\n",
    "\n",
    "function value(val, v, X, ystar, ygrid, kgrid, pars)\n",
    "    (; nz) = pars\n",
    "    for j in 1:nz\n",
    "        spl = x -> Spline1D(X[:,j], ystar[:,j], k = 1, bc = \"extrapolate\")(x)\n",
    "        spl2 = x -> Spline1D(ygrid[:,j], v[:,j], k = 1, bc = \"extrapolate\")(x)\n",
    "        val[:,j] = spl2.(spl.(kgrid))\n",
    "    end\n",
    "    return val\n",
    "end    "
   ]
  },
  {
   "cell_type": "code",
   "execution_count": 122,
   "metadata": {},
   "outputs": [
    {
     "data": {
      "text/plain": [
       "egm (generic function with 1 method)"
      ]
     },
     "metadata": {},
     "output_type": "display_data"
    }
   ],
   "source": [
    "function egm(pars)\n",
    "    (; γ, nk, nz, toler, maxiter, β, print_skip) = pars\n",
    "\n",
    "    Π, Zvals = ar1(pars)\n",
    "    Kvals = exp_grid(pars)\n",
    "\n",
    "    v1 = initial_guess(Kvals, Zvals, pars)\n",
    "    v2 = zeros(nk, nz)\n",
    "    v3 = zeros(nk, nz)\n",
    "    v4 = zeros(nk, nz)\n",
    "    c = zeros(nk, nz)\n",
    "\n",
    "    derivatives = zeros(nk, nz)\n",
    "\n",
    "    Yvals = resource_grid(Kvals, Zvals, pars)\n",
    "    Ystar = zeros(nk, nz)\n",
    "\n",
    "    Kinterpolators = Vector{Spline1D}(undef, nz)\n",
    "    Yinterpolators = Vector{Spline1D}(undef, nz)\n",
    "\n",
    "    X = zeros(nk, nz)\n",
    "    Value = zeros(nk, nz)\n",
    "    Policy = zeros(nk, nz)\n",
    "\n",
    "    error = toler + 1\n",
    "    iter = 0\n",
    "    if iter == 0\n",
    "        println(\"Iterating...\")\n",
    "    end\n",
    "    \n",
    "    while ((error > toler) && (iter < maxiter))\n",
    "        Kinterpolators = [interpolate(Kvals, v1[:,j], pars) for j in 1:nz]\n",
    "        for (j, interpolation) in enumerate(Kinterpolators)\n",
    "            derivatives[:,j] = Dierckx.derivative(interpolation, Kvals)\n",
    "        end\n",
    "        c = (derivatives).^(-1/γ)\n",
    "        Ystar = c .+ Kvals\n",
    "        #@show Ystar\n",
    "        #@show Yvals\n",
    "        v2 = utility.(c) .+ v1\n",
    "        Yinterpolators = [interpolate(Ystar[:,j], v2[:,j], pars) for j in 1:nz]\n",
    "        for (j, interpolation) in enumerate(Yinterpolators)\n",
    "            v3[:,j] = interpolation(Yvals[:,j])\n",
    "        end\n",
    "        for i in 1:nk\n",
    "            for j in 1:nz\n",
    "                v4[i,j] = β * dot(v3[i,:], Π[j,:])\n",
    "            end\n",
    "        end\n",
    "        #v4 = β * (v3 * Π')\n",
    "        error = maximum(abs.(v4 - v1) ./ (1.0 .+ abs.(v1)))\n",
    "        if iter % print_skip == 0\n",
    "            println(\"--------------------\")\n",
    "            println(\"Iteration: $iter, Error: $error\")\n",
    "        end\n",
    "        #fig2 = Figure(size = (800, 600))\n",
    "        #ax2 = Axis(fig2[1, 1], xlabel = \"Capital\", ylabel = \"Value\")\n",
    "        #for j in 1:3\n",
    "        #    lines!(ax2, Kvals, v3[:,j], label = \"Value $j, v3\")\n",
    "        #    lines!(ax2, Kvals, v4[:,j], label = \"Value $j, v4\")\n",
    "        #end\n",
    "        #legend = Legend(fig2[1, 2], ax2, halign = :right)\n",
    "        #display(fig2)\n",
    "        #v1 = copy(v4)\n",
    "        iter += 1\n",
    "    end\n",
    "\n",
    "    println(\"--------------------\")\n",
    "    println(\"Converged in $iter iterations\")\n",
    "    println(\"--------------------\")\n",
    "\n",
    "    #X = capital(X, Zvals, Ystar, pars)\n",
    "    #Value = value(Value, v1, X, Ystar, Yvals, Kvals, pars)\n",
    "    #Policy = policy(Policy, X, Kvals, pars)\n",
    "\n",
    "    return c, v1, Kvals, Ystar, Yvals, v2, v3, v4\n",
    "end"
   ]
  },
  {
   "cell_type": "code",
   "execution_count": 123,
   "metadata": {},
   "outputs": [
    {
     "data": {
      "text/plain": [
       "11×15 Matrix{Float64}:\n",
       " 1.69764e-7  3.10841e-7  5.69153e-7  …     0.000441402     0.000808212\n",
       " 0.147859    0.270731    0.495712        384.445         703.923\n",
       " 0.233629    0.427777    0.783266        607.454        1112.26\n",
       " 0.305314    0.559034    1.0236          793.842        1453.53\n",
       " 0.369153    0.675923    1.23762         959.828        1757.46\n",
       " 0.427727    0.783174    1.434       …  1112.13         2036.32\n",
       " 0.482421    0.883319    1.61737        1254.34         2296.7\n",
       " 0.534086    0.977918    1.79058        1388.67         2542.67\n",
       " 0.583292    1.06801     1.95555        1516.61         2776.93\n",
       " 0.630444    1.15435     2.11363        1639.21         3001.41\n",
       " 0.675844    1.23748     2.26584     …  1757.25         3217.55"
      ]
     },
     "metadata": {},
     "output_type": "display_data"
    }
   ],
   "source": [
    "@time begin\n",
    "    #C1, V1 = egm(pars)\n",
    "    C1, V1, Kvals, Ystar, Yvals, V2, V3, V4 = egm(pars)\n",
    "end\n",
    "\n",
    "@show Yvals\n",
    "#@show V1\n",
    "\n",
    "#fig1 = Figure(size = (800, 600))\n",
    "#ax1 = Axis(fig1[1, 1], title = \"Value Functions\", xlabel = \"Assets\", ylabel = \"Value\")\n",
    "#for j in 1:pars.nz\n",
    "#    lines!(ax1, Kvals, V4[:,j], label = \"Shock $j\")\n",
    "#end\n",
    "#legend = Legend(fig1[1,2], ax1, \"Legend\", orientation = :vertical, fontsize = 4)\n",
    "#fig1"
   ]
  },
  {
   "cell_type": "code",
   "execution_count": 124,
   "metadata": {},
   "outputs": [
    {
     "data": {
      "text/plain": [
       "11×15 Matrix{Float64}:\n",
       "   0.000412025    0.000557531    0.000754423  …    0.0210096     0.0284291\n",
       "   2.09921        2.48739        3.01266          57.0496       76.8435\n",
       "   6.23052        7.01823        8.08412         117.737       157.903\n",
       "  12.5155        13.7569        15.4369          188.257       251.562\n",
       "  20.9255        22.665         25.0187          267.158       355.855\n",
       "  31.442         33.717         36.7954       …  353.486       469.49\n",
       "  44.0518        46.8953        50.7429          446.569       591.561\n",
       "  58.7451        62.1866        66.8434          545.912       721.396\n",
       "  75.5144        79.5806        85.0829          651.129       858.473\n",
       "  94.3535        99.0693       105.45            761.909      1002.37\n",
       " 113.354        118.069        124.45         …  780.909      1021.37"
      ]
     },
     "metadata": {},
     "output_type": "display_data"
    }
   ],
   "source": [
    "@show Ystar"
   ]
  },
  {
   "cell_type": "code",
   "execution_count": 120,
   "metadata": {},
   "outputs": [
    {
     "data": {
      "text/plain": [
       "11×15 Matrix{Float64}:\n",
       " 1.0      0.707107  0.57735  0.5       …  0.27735   0.267261  0.258199\n",
       " 1.73205  1.22474   1.0      0.866025     0.480384  0.46291   0.447214\n",
       " 2.23607  1.58114   1.29099  1.11803      0.620174  0.597614  0.57735\n",
       " 2.64575  1.87083   1.52753  1.32288      0.733799  0.707107  0.68313\n",
       " 3.0      2.12132   1.73205  1.5          0.83205   0.801784  0.774597\n",
       " 3.31662  2.34521   1.91485  1.65831   …  0.919866  0.886405  0.856349\n",
       " 3.60555  2.54951   2.08167  1.80278      1.0       0.963624  0.930949\n",
       " 3.87298  2.73861   2.23607  1.93649      1.07417   1.0351    1.0\n",
       " 4.12311  2.91548   2.38048  2.06155      1.14354   1.10195   1.06458\n",
       " 4.3589   3.08221   2.51661  2.17945      1.20894   1.16496   1.12546\n",
       " 4.3589   3.08221   2.51661  2.17945   …  1.20894   1.16496   1.12546"
      ]
     },
     "metadata": {},
     "output_type": "display_data"
    }
   ],
   "source": [
    "@show C1"
   ]
  },
  {
   "cell_type": "code",
   "execution_count": 116,
   "metadata": {},
   "outputs": [
    {
     "data": {
      "text/plain": [
       "11×15 Matrix{Float64}:\n",
       "  1.0   2.0   3.0   4.0   5.0   6.0  …   11.0   12.0   13.0   14.0   15.0\n",
       "  2.0   4.0   6.0   8.0  10.0  12.0      22.0   24.0   26.0   28.0   30.0\n",
       "  3.0   6.0   9.0  12.0  15.0  18.0      33.0   36.0   39.0   42.0   45.0\n",
       "  4.0   8.0  12.0  16.0  20.0  24.0      44.0   48.0   52.0   56.0   60.0\n",
       "  5.0  10.0  15.0  20.0  25.0  30.0      55.0   60.0   65.0   70.0   75.0\n",
       "  6.0  12.0  18.0  24.0  30.0  36.0  …   66.0   72.0   78.0   84.0   90.0\n",
       "  7.0  14.0  21.0  28.0  35.0  42.0      77.0   84.0   91.0   98.0  105.0\n",
       "  8.0  16.0  24.0  32.0  40.0  48.0      88.0   96.0  104.0  112.0  120.0\n",
       "  9.0  18.0  27.0  36.0  45.0  54.0      99.0  108.0  117.0  126.0  135.0\n",
       " 10.0  20.0  30.0  40.0  50.0  60.0     110.0  120.0  130.0  140.0  150.0\n",
       " 11.0  22.0  33.0  44.0  55.0  66.0  …  121.0  132.0  143.0  154.0  165.0"
      ]
     },
     "metadata": {},
     "output_type": "display_data"
    }
   ],
   "source": [
    "@show V1"
   ]
  },
  {
   "cell_type": "code",
   "execution_count": null,
   "metadata": {},
   "outputs": [],
   "source": [
    "fig1 = Figure(size = (800, 600))\n",
    "ax1 = Axis(fig1[1, 1], title = \"Value Functions\", xlabel = \"Assets\", ylabel = \"Value\")\n",
    "for j in 1:pars.nz\n",
    "    lines!(ax1, Kvals, Value[:,j], label = \"Shock $j\")\n",
    "end\n",
    "legend = Legend(fig1[1,2], ax1, \"Legend\", orientation = :vertical, fontsize = 4)\n",
    "display(fig1)\n",
    "\n",
    "fig2 = Figure(size = (800, 600))\n",
    "ax2 = Axis(fig2[1, 1], title = \"Policy Functions\", xlabel = \"Assets Today\", ylabel = \"Assets Tomorrow\")\n",
    "for j in 1:pars.nz\n",
    "    lines!(ax2, Kvals, Policy[:,j], label = \"Shock $j\")\n",
    "end\n",
    "lines!(ax2, Kvals, Kvals, label = \"45 Deg Line\", color = :black, linestyle = :dash)\n",
    "legend = Legend(fig2[1,2], ax2, \"Legend\", orientation = :vertical, fontsize = 4)\n",
    "display(fig2)"
   ]
  }
 ],
 "metadata": {
  "kernelspec": {
   "display_name": "Julia 1.10.1",
   "language": "julia",
   "name": "julia-1.10"
  },
  "language_info": {
   "file_extension": ".jl",
   "mimetype": "application/julia",
   "name": "julia",
   "version": "1.10.1"
  }
 },
 "nbformat": 4,
 "nbformat_minor": 2
}
