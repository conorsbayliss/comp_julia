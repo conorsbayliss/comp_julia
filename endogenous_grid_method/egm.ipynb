{
 "cells": [
  {
   "cell_type": "code",
   "execution_count": 2,
   "metadata": {},
   "outputs": [],
   "source": [
    "using CairoMakie, Dierckx, Optim, LinearAlgebra, QuantEcon"
   ]
  },
  {
   "cell_type": "code",
   "execution_count": 3,
   "metadata": {},
   "outputs": [
    {
     "data": {
      "text/plain": [
       "(α = 0.33, β = 0.96, A = 10.0, γ = 2.0, δ = 0.1, nk = 101, nz = 19, θ = 2, lb = 0.0001, ub = 100.0, ρ = 0.98, μ = 0.5, σ = 0.01, toler = 1.0e-6, maxiter = 1000, print_skip = 10, kgrid = [0.0001, 0.01009999, 0.040099960000000004, 0.09009990999999999, 0.16009984, 0.25009975000000007, 0.36009963999999994, 0.49009951, 0.64009936, 0.81009919  …  82.81001719000001, 84.64001536, 86.49001351000001, 88.36001164, 90.25000975, 92.16000783999999, 94.09000591, 96.04000395999999, 98.01000198999999, 100.0], zgrid = [0.008387608038651633, 0.014299146011397482, 0.024377101995354325, 0.041557943475662926, 0.07084774335585627, 0.12078082597029194, 0.20590645842864538, 0.35102814773808405, 0.5984307701894207, 1.0202013400267553, 1.7392333851131028, 2.9650350859298533, 5.054774785284692, 8.617351022656463, 14.690810531036542, 25.044809418971962, 42.696247256574644, 72.78831710388745, 124.0891049505581], Π = [0.005637710113660432 0.033826260681962594 … 7.8580342233181e-10 1.4551915228366852e-11; 0.0018792367045534775 0.016286718106130138 … 2.240994945168495e-9 4.3655745685100555e-11; … ; 4.3655745685100555e-11 2.240994945168495e-9 … 0.016286718106130138 0.0018792367045534775; 1.4551915228366852e-11 7.8580342233181e-10 … 0.033826260681962594 0.005637710113660432])"
      ]
     },
     "metadata": {},
     "output_type": "display_data"
    }
   ],
   "source": [
    "function create_EGM_model(;nk = 101, nz = 19)\n",
    "\n",
    "    p = (;α = 0.33, # Capital share\n",
    "    β = 0.96, # Discount factor\n",
    "    A = 10.0, # TFP\n",
    "    γ = 2.0, # Risk aversion\n",
    "    δ = 0.1, # Depreciation rate\n",
    "    nk = nk, # Number of capital gridpoints\n",
    "    nz = nz, # Number of shock gridpoints\n",
    "    θ = 2, # Grid expansion parameter\n",
    "    lb = 10^-4, # Lower bound of capital grid\n",
    "    ub = 100.0, # Upper bound of capital grid\n",
    "    ρ = 0.98, # Persistence of AR(1) process\n",
    "    μ = 0.5, # Mean of AR(1) process\n",
    "    σ = 0.01, # Var of AR(1) process\n",
    "    toler = 1e-6, # Tolerance\n",
    "    maxiter = 1_000, # Maximum number of iterations\n",
    "    print_skip = 10, # Print every x iterations\n",
    "    kgrid = LinRange(0.0,1.0,nk), # Capital grid\n",
    "    zgrid = LinRange(0.0,1.0,nz), # Shock grid\n",
    "    Π = zeros(Float64, nz, nz)) # Transition matrix\n",
    "\n",
    "    # Create productivity grid and transition matrix\n",
    "    mc = rouwenhorst(p.nz, p.μ, p.ρ, p.σ)\n",
    "    zgrid, Π = exp.(mc.state_values), mc.p\n",
    "\n",
    "    # Create capital grid\n",
    "    temp_grid = LinRange(0.0,1.0,p.nk)\n",
    "    kgrid = p.lb .+ (p.ub - p.lb) * (temp_grid .^ p.θ)\n",
    "\n",
    "    # Return NamedTuple\n",
    "    p = (p..., kgrid = kgrid, zgrid = zgrid, Π = Π)\n",
    "\n",
    "    return p\n",
    "end\n",
    "\n",
    "model_EGM = create_EGM_model()"
   ]
  },
  {
   "cell_type": "code",
   "execution_count": 8,
   "metadata": {},
   "outputs": [
    {
     "data": {
      "text/plain": [
       "marginal_prod_grid (generic function with 1 method)"
      ]
     },
     "metadata": {},
     "output_type": "display_data"
    }
   ],
   "source": [
    "function utility(c)\n",
    "    if model_EGM.γ == 1.0\n",
    "        return log(c)\n",
    "    else\n",
    "        return (c^(1-model_EGM.γ)-1) / (1-model_EGM.γ)\n",
    "    end\n",
    "end \n",
    "\n",
    "function marginal_utility(c)\n",
    "    return c^(-model_EGM.γ)\n",
    "end\n",
    "\n",
    "function inverse_marginal_utility(u)\n",
    "    return u^(-1/model_EGM.γ)\n",
    "end\n",
    "\n",
    "function resources(i ,j , p)\n",
    "    (; α, δ, A, kgrid, zgrid) = p\n",
    "    return (A * zgrid[j] * (kgrid[i] ^ α)) + (1.0 - δ) * kgrid[i]\n",
    "end\n",
    "\n",
    "function marginal_prod(i ,j , p)\n",
    "    (; α, δ, A, kgrid, zgrid) = p\n",
    "    return α * A * zgrid[j] * (kgrid[i] ^ (α - 1)) + (1.0 - δ)\n",
    "end\n",
    "\n",
    "function initial_guess(p)\n",
    "    (; nk, nz) = p\n",
    "    c_pol = zeros(nk, nz)\n",
    "    for i in 1:nk\n",
    "        for j in 1:nz\n",
    "            c_pol[i,j] = resources(i ,j , p)\n",
    "        end\n",
    "    end\n",
    "    return c_pol\n",
    "end\n",
    "\n",
    "function resource_grid(p)\n",
    "    (; nk, nz) = p\n",
    "    Ygrid = zeros(nk, nz)\n",
    "    for i in 1:nk\n",
    "        for j in 1:nz\n",
    "            Ygrid[i,j] = resources(i, j, p)\n",
    "        end\n",
    "    end\n",
    "    return Ygrid\n",
    "end\n",
    "\n",
    "function marginal_prod_grid(p)\n",
    "    (; nk, nz) = p\n",
    "    MPgrid = zeros(nk, nz)\n",
    "    for i in 1:nk\n",
    "        for j in 1:nz\n",
    "            MPgrid[i,j] = marginal_prod(i, j, p)\n",
    "        end\n",
    "    end\n",
    "    return MPgrid\n",
    "end"
   ]
  },
  {
   "cell_type": "code",
   "execution_count": 11,
   "metadata": {},
   "outputs": [
    {
     "name": "stdout",
     "output_type": "stream",
     "text": [
      "Iterating...\n"
     ]
    },
    {
     "ename": "MethodError",
     "evalue": "MethodError: no method matching optimize(::var\"#18#19\"{Vector{Float64}, Int64, Int64}; autodiff::Symbol)\n\nClosest candidates are:\n  optimize(::Any, !Matched::Number, !Matched::AbstractArray, !Matched::AbstractArray{T}, !Matched::Optim.AbstractConstrainedOptimizer, !Matched::Optim.Options; kwargs...) where T\n   @ Optim C:\\Users\\IRCSB01\\.julia\\packages\\Optim\\ZhuZN\\src\\multivariate\\solvers\\constrained\\fminbox.jl:253\n  optimize(::Any, !Matched::Number, !Matched::AbstractArray, !Matched::AbstractArray{T}, !Matched::Optim.AbstractConstrainedOptimizer; ...) where T\n   @ Optim C:\\Users\\IRCSB01\\.julia\\packages\\Optim\\ZhuZN\\src\\multivariate\\solvers\\constrained\\fminbox.jl:253\n  optimize(::Any, !Matched::Number, !Matched::Number, !Matched::AbstractArray{T}, !Matched::Optim.AbstractConstrainedOptimizer, !Matched::Optim.Options; kwargs...) where T\n   @ Optim C:\\Users\\IRCSB01\\.julia\\packages\\Optim\\ZhuZN\\src\\multivariate\\solvers\\constrained\\fminbox.jl:251\n  ...\n",
     "output_type": "error",
     "traceback": [
      "MethodError: no method matching optimize(::var\"#18#19\"{Vector{Float64}, Int64, Int64}; autodiff::Symbol)\n",
      "\n",
      "Closest candidates are:\n",
      "  optimize(::Any, !Matched::Number, !Matched::AbstractArray, !Matched::AbstractArray{T}, !Matched::Optim.AbstractConstrainedOptimizer, !Matched::Optim.Options; kwargs...) where T\n",
      "   @ Optim C:\\Users\\IRCSB01\\.julia\\packages\\Optim\\ZhuZN\\src\\multivariate\\solvers\\constrained\\fminbox.jl:253\n",
      "  optimize(::Any, !Matched::Number, !Matched::AbstractArray, !Matched::AbstractArray{T}, !Matched::Optim.AbstractConstrainedOptimizer; ...) where T\n",
      "   @ Optim C:\\Users\\IRCSB01\\.julia\\packages\\Optim\\ZhuZN\\src\\multivariate\\solvers\\constrained\\fminbox.jl:253\n",
      "  optimize(::Any, !Matched::Number, !Matched::Number, !Matched::AbstractArray{T}, !Matched::Optim.AbstractConstrainedOptimizer, !Matched::Optim.Options; kwargs...) where T\n",
      "   @ Optim C:\\Users\\IRCSB01\\.julia\\packages\\Optim\\ZhuZN\\src\\multivariate\\solvers\\constrained\\fminbox.jl:251\n",
      "  ...\n",
      "\n",
      "\n",
      "Stacktrace:\n",
      " [1] new_egm(p::@NamedTuple{α::Float64, β::Float64, A::Float64, γ::Float64, δ::Float64, nk::Int64, nz::Int64, θ::Int64, lb::Float64, ub::Float64, ρ::Float64, μ::Float64, σ::Float64, toler::Float64, maxiter::Int64, print_skip::Int64, kgrid::Vector{Float64}, zgrid::Vector{Float64}, Π::Matrix{Float64}})\n",
      "   @ Main c:\\Users\\IRCSB01\\Documents\\GitHub\\comp_julia\\endogenous_grid_method\\jl_notebook_cell_df34fa98e69747e1a8f8a730347b8e2f_W6sZmlsZQ==.jl:32\n",
      " [2] top-level scope\n",
      "   @ c:\\Users\\IRCSB01\\Documents\\GitHub\\comp_julia\\endogenous_grid_method\\jl_notebook_cell_df34fa98e69747e1a8f8a730347b8e2f_W6sZmlsZQ==.jl:40"
     ]
    }
   ],
   "source": [
    "function new_egm(p)\n",
    "    # Unpack parameters\n",
    "    (; print_skip, toler, maxiter, Π, kgrid, zgrid, nk, nz, β) = p\n",
    "\n",
    "    # Initialise matrices\n",
    "    c_pol_1 = initial_guess(p)\n",
    "    c_pol_2 = zeros(nk, nz)\n",
    "    s_pol = zeros(nk, nz)\n",
    "    V1 = zeros(nk, nz)\n",
    "    V2 = zeros(nk, nz)\n",
    "    V3 = zeros(nk, nz)\n",
    "    V4 = zeros(nk, nz)\n",
    "    v_out = zeros(nk, nz)\n",
    "    MPgrid = marginal_prod_grid(p)\n",
    "    Ygrid = resource_grid(p)\n",
    " \n",
    "    # Set error and iteration counter\n",
    "    error = toler + 1\n",
    "    iter = 0\n",
    "    if iter == 0\n",
    "        println(\"Iterating...\")\n",
    "    end\n",
    "\n",
    "    while error > toler && iter < maxiter\n",
    "        MUgrid = marginal_utility.(c_pol_1)\n",
    "        V1 = β .* MUgrid .* MPgrid\n",
    "        V2 = (Π * V1')'\n",
    "        V3 = inverse_marginal_utility.(V2)\n",
    "        V4 = kgrid .+ V3\n",
    "        for j in 1:nz\n",
    "            for i in 1:nk\n",
    "                opt = optimize(k -> A * zgrid[j] * (k ^ α) + (1.0 - δ) * k - V4[i,j], autodiff = :forward)\n",
    "                s_pol[i,j] = opt.minimizer\n",
    "            end\n",
    "        end\n",
    "    end\n",
    "    return s_pol\n",
    "end\n",
    "\n",
    "test = new_egm(model_EGM)"
   ]
  },
  {
   "cell_type": "code",
   "execution_count": null,
   "metadata": {},
   "outputs": [],
   "source": [
    "fig1 = Figure(size = (800, 600))\n",
    "ax1 = Axis(fig1[1, 1], title = \"Value Functions\", xlabel = \"Assets\", ylabel = \"Value\")\n",
    "for j in 1:pars.nz\n",
    "    lines!(ax1, Kvals, Value[:,j], label = \"Shock $j\")\n",
    "end\n",
    "legend = Legend(fig1[1,2], ax1, \"Legend\", orientation = :vertical, fontsize = 4)\n",
    "display(fig1)\n",
    "\n",
    "fig2 = Figure(size = (800, 600))\n",
    "ax2 = Axis(fig2[1, 1], title = \"Policy Functions\", xlabel = \"Assets Today\", ylabel = \"Assets Tomorrow\")\n",
    "for j in 1:pars.nz\n",
    "    lines!(ax2, Kvals, Policy[:,j], label = \"Shock $j\")\n",
    "end\n",
    "lines!(ax2, Kvals, Kvals, label = \"45 Deg Line\", color = :black, linestyle = :dash)\n",
    "legend = Legend(fig2[1,2], ax2, \"Legend\", orientation = :vertical, fontsize = 4)\n",
    "display(fig2)"
   ]
  }
 ],
 "metadata": {
  "kernelspec": {
   "display_name": "Julia 1.10.4",
   "language": "julia",
   "name": "julia-1.10"
  },
  "language_info": {
   "file_extension": ".jl",
   "mimetype": "application/julia",
   "name": "julia",
   "version": "1.10.4"
  }
 },
 "nbformat": 4,
 "nbformat_minor": 2
}
