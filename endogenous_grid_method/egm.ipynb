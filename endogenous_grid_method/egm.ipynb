{
 "cells": [
  {
   "cell_type": "code",
   "execution_count": 8,
   "metadata": {},
   "outputs": [],
   "source": [
    "using CairoMakie, Dierckx, Optim, LinearAlgebra, QuantEcon"
   ]
  },
  {
   "cell_type": "code",
   "execution_count": 3,
   "metadata": {},
   "outputs": [
    {
     "data": {
      "text/plain": [
       "(α = 0.33, β = 0.9, A = 10.0, γ = 1.0, δ = 0.1, nk = 31, θ = 4, lb = 0.0, ub = 1000.0, nz = 19, ρ = 0.9, μ = 0.0, σ = 0.007, toler = 1.0e-6, maxiter = 10000)"
      ]
     },
     "metadata": {},
     "output_type": "display_data"
    }
   ],
   "source": [
    "pars = (;α = 0.33, # Capital share\n",
    "        β = 0.9, # Discount factor\n",
    "        A = 10.0, # TFP\n",
    "        γ = 1.0, # Risk aversion\n",
    "        δ = 0.1, # Depreciation rate\n",
    "        nk = 31, # Number of capital gridpoints\n",
    "        θ = 4, # Grid expansion parameter\n",
    "        lb = 0.00, # Lower bound of capital grid\n",
    "        ub = 1000.0, # Upper bound of capital grid\n",
    "        nz = 19, # Number of shock gridpoints\n",
    "        ρ = 0.9, # Persistence of AR(1) process\n",
    "        μ = 0.0, # Mean of AR(1) process\n",
    "        σ = 0.007, # Var of AR(1) process\n",
    "        toler = 1e-6, # Tolerance\n",
    "        maxiter = 10000) # Maximum number of iterations"
   ]
  },
  {
   "cell_type": "code",
   "execution_count": 4,
   "metadata": {},
   "outputs": [
    {
     "data": {
      "text/plain": [
       "resource_grid (generic function with 1 method)"
      ]
     },
     "metadata": {},
     "output_type": "display_data"
    }
   ],
   "source": [
    "function utility(c)\n",
    "    if pars.γ == 1.0\n",
    "        return log(c)\n",
    "    else\n",
    "        return (c^(1-pars.γ)) / (1-pars.γ)\n",
    "    end\n",
    "end\n",
    "\n",
    "function ar1(pars)\n",
    "    (; μ, ρ, σ, nz) = pars\n",
    "    mc = rouwenhorst(nz, μ, ρ, σ)\n",
    "    Π, Zvals = mc.p, exp.(mc.state_values)\n",
    "    return Π, Zvals\n",
    "end\n",
    "\n",
    "function exp_grid(pars)\n",
    "    (; nk, θ, lb, ub) = pars\n",
    "    grid = LinRange(1e-4, 1.0, nk)\n",
    "    expgrid = lb .+ (ub .- lb) .* grid.^θ\n",
    "    return expgrid\n",
    "end\n",
    "\n",
    "function interpolate(grid, vals, pars)\n",
    "    spline = Spline1D(grid, vals, k = 1, bc = \"extrapolate\")\n",
    "    return spline\n",
    "end\n",
    "\n",
    "function production(k, z ,pars)\n",
    "    (; α, δ, A) = pars\n",
    "    return A * z * (k ^ α) + (1.0 - δ) * k\n",
    "end\n",
    "\n",
    "function initial_guess(grid, pars)\n",
    "    (; nk, nz) = pars\n",
    "    v = ones(nk, nz)\n",
    "    v_out = zeros(nk, nz)\n",
    "    for j in 1:nz\n",
    "        v_out[:,j] = utility.(grid)\n",
    "    end\n",
    "    return v_out\n",
    "end\n",
    "\n",
    "function resource_grid(kgrid, zgrid, pars)\n",
    "    (; nk, nz) = pars\n",
    "    Ygrid = zeros(nk, nz)\n",
    "    for i in 1:nk\n",
    "        for j in 1:nz\n",
    "            Ygrid[i,j] = production(kgrid[i], zgrid[j], pars)\n",
    "        end\n",
    "    end\n",
    "    return Ygrid\n",
    "end"
   ]
  },
  {
   "cell_type": "code",
   "execution_count": 10,
   "metadata": {},
   "outputs": [
    {
     "name": "stdout",
     "output_type": "stream",
     "text": [
      "Iterating...\n"
     ]
    },
    {
     "data": {
      "text/plain": [
       "31×19 Matrix{Float64}:\n",
       " -39.7653    -39.7653    -39.7653    …  -39.7653    -39.7653    -39.7653\n",
       " -11.6869    -11.6869    -11.6869       -11.6869    -11.6869    -11.6869\n",
       "  -6.92073    -6.92073    -6.92073       -6.92073    -6.92073    -6.92073\n",
       "  -3.96862    -3.96862    -3.96862       -3.96862    -3.96862    -3.96862\n",
       "  -1.81959    -1.81959    -1.81959       -1.81959    -1.81959    -1.81959\n",
       "  -0.128084   -0.128084   -0.128084  …   -0.128084   -0.128084   -0.128084\n",
       "   1.26714     1.26714     1.26714        1.26714     1.26714     1.26714\n",
       "   2.45465     2.45465     2.45465        2.45465     2.45465     2.45465\n",
       "   3.48837     3.48837     3.48837        3.48837     3.48837     3.48837\n",
       "   4.40363     4.40363     4.40363        4.40363     4.40363     4.40363\n",
       "   ⋮                                 ⋱                          \n",
       "  11.4248     11.4248     11.4248        11.4248     11.4248     11.4248\n",
       "  11.7764     11.7764     11.7764        11.7764     11.7764     11.7764\n",
       "  12.1133     12.1133     12.1133        12.1133     12.1133     12.1133\n",
       "  12.4366     12.4366     12.4366    …   12.4366     12.4366     12.4366\n",
       "  12.7472     12.7472     12.7472        12.7472     12.7472     12.7472\n",
       "  13.0463     13.0463     13.0463        13.0463     13.0463     13.0463\n",
       "  13.3346     13.3346     13.3346        13.3346     13.3346     13.3346\n",
       "  13.6129     13.6129     13.6129        13.6129     13.6129     13.6129\n",
       "  13.7485     13.7485     13.7485    …   13.7485     13.7485     13.7485"
      ]
     },
     "metadata": {},
     "output_type": "display_data"
    }
   ],
   "source": [
    "function egm(pars)\n",
    "    (; γ, nk, nz, toler, maxiter) = pars\n",
    "    Π, Zvals = ar1(pars)\n",
    "    Kvals = exp_grid(pars)\n",
    "    v = initial_guess(exp_grid(pars), pars)\n",
    "    v_new = zeros(nk, nz)\n",
    "    c = zeros(nk, nz)\n",
    "    derivatives = zeros(nk, nz)\n",
    "    Yvals = resource_grid(Kvals, Zvals, pars)\n",
    "    Ystar = zeros(nk, nz)\n",
    "    interpolators = Vector{Spline1D}(undef, nz)\n",
    "    error = toler + 1\n",
    "    iter = 0\n",
    "    if iter == 0\n",
    "        println(\"Iterating...\")\n",
    "    end\n",
    "    while ((error > toler) && (iter < maxiter))\n",
    "        interpolators = [interpolate(Kvals, v[:,j], pars) for j in 1:nz]\n",
    "        for (j, interpolator) in enumerate(interpolators)\n",
    "            derivatives[:,j] = Dierckx.derivative(interpolator, Kvals)\n",
    "        end\n",
    "        c = (derivatives).^(-1/γ)\n",
    "        Ystar = c .+ Kvals\n",
    "        v_new = utility.(c) .+ v\n",
    "        error = 0\n",
    "        #iter += 1\n",
    "    end\n",
    "    return v_new\n",
    "end\n",
    "test = egm(pars)  "
   ]
  }
 ],
 "metadata": {
  "kernelspec": {
   "display_name": "Julia 1.10.1",
   "language": "julia",
   "name": "julia-1.10"
  },
  "language_info": {
   "file_extension": ".jl",
   "mimetype": "application/julia",
   "name": "julia",
   "version": "1.10.1"
  }
 },
 "nbformat": 4,
 "nbformat_minor": 2
}
