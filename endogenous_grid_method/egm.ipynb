{
 "cells": [
  {
   "cell_type": "code",
   "execution_count": 1,
   "metadata": {},
   "outputs": [],
   "source": [
    "using CairoMakie, Dierckx, Optim, LinearAlgebra, QuantEcon"
   ]
  },
  {
   "cell_type": "code",
   "execution_count": 29,
   "metadata": {},
   "outputs": [
    {
     "data": {
      "text/plain": [
       "(α = 0.33, β = 0.9, A = 10.0, γ = 1.0, δ = 0.1, nk = 31, θ = 4, lb = 0.0, ub = 1000.0, nz = 19, ρ = 0.9, μ = 0.0, σ = 0.007, toler = 1.0e-6, maxiter = 10000)"
      ]
     },
     "metadata": {},
     "output_type": "display_data"
    }
   ],
   "source": [
    "pars = (;α = 0.33, # Capital share\n",
    "        β = 0.9, # Discount factor\n",
    "        A = 10.0, # TFP\n",
    "        γ = 1.0, # Risk aversion\n",
    "        δ = 0.1, # Depreciation rate\n",
    "        nk = 31, # Number of capital gridpoints\n",
    "        θ = 4, # Grid expansion parameter\n",
    "        lb = 0.00, # Lower bound of capital grid\n",
    "        ub = 1000.0, # Upper bound of capital grid\n",
    "        nz = 19, # Number of shock gridpoints\n",
    "        ρ = 0.9, # Persistence of AR(1) process\n",
    "        μ = 0.0, # Mean of AR(1) process\n",
    "        σ = 0.007, # Var of AR(1) process\n",
    "        toler = 1e-6, # Tolerance\n",
    "        maxiter = 10000) # Maximum number of iterations"
   ]
  },
  {
   "cell_type": "code",
   "execution_count": 30,
   "metadata": {},
   "outputs": [
    {
     "data": {
      "text/plain": [
       "resource_grid (generic function with 1 method)"
      ]
     },
     "metadata": {},
     "output_type": "display_data"
    }
   ],
   "source": [
    "function utility(c)\n",
    "    if pars.γ == 1.0\n",
    "        return log(c)\n",
    "    else\n",
    "        return (c^(1-pars.γ)) / (1-pars.γ)\n",
    "    end\n",
    "end\n",
    "\n",
    "function ar1(pars)\n",
    "    (; μ, ρ, σ, nz) = pars\n",
    "    mc = rouwenhorst(nz, μ, ρ, σ)\n",
    "    Π, Zvals = mc.p, exp.(mc.state_values)\n",
    "    return Π, Zvals\n",
    "end\n",
    "\n",
    "function exp_grid(pars)\n",
    "    (; nk, θ, lb, ub) = pars\n",
    "    grid = LinRange(1e-4, 1.0, nk)\n",
    "    expgrid = lb .+ (ub .- lb) .* grid.^θ\n",
    "    return expgrid\n",
    "end\n",
    "\n",
    "function interpolate(grid, vals, pars)\n",
    "    spline = Spline1D(grid, vals, k = 1, bc = \"extrapolate\")\n",
    "    return spline\n",
    "end\n",
    "\n",
    "function production(k, z ,pars)\n",
    "    (; α, δ, A) = pars\n",
    "    return A * z * (k ^ α) + (1.0 - δ) * k\n",
    "end\n",
    "\n",
    "function initial_guess(grid, pars)\n",
    "    (; nk, nz) = pars\n",
    "    v = ones(nk, nz)\n",
    "    v_out = zeros(nk, nz)\n",
    "    for j in 1:nz\n",
    "        v_out[:,j] = utility.(grid)\n",
    "    end\n",
    "    return v_out\n",
    "end\n",
    "\n",
    "function resource_grid(kgrid, zgrid, pars)\n",
    "    (; nk, nz) = pars\n",
    "    Ygrid = zeros(nk, nz)\n",
    "    for i in 1:nk\n",
    "        for j in 1:nz\n",
    "            Ygrid[i,j] = production(kgrid[i], zgrid[j], pars)\n",
    "        end\n",
    "    end\n",
    "    return Ygrid\n",
    "end"
   ]
  },
  {
   "cell_type": "code",
   "execution_count": 32,
   "metadata": {},
   "outputs": [
    {
     "data": {
      "text/plain": [
       "31×19 Matrix{Float64}:\n",
       "   5.37226e-5    5.37226e-5    5.37226e-5  …    5.37226e-5    5.37226e-5\n",
       "   0.00672847    0.00672847    0.00672847       0.00672847    0.00672847\n",
       "   0.0496934     0.0496934     0.0496934        0.0496934     0.0496934\n",
       "   0.188315      0.188315      0.188315         0.188315      0.188315\n",
       "   0.511536      0.511536      0.511536         0.511536      0.511536\n",
       "   1.13792       1.13792       1.13792     …    1.13792       1.13792\n",
       "   2.21563       2.21563       2.21563          2.21563       2.21563\n",
       "   3.92249       3.92249       3.92249          3.92249       3.92249\n",
       "   6.46588       6.46588       6.46588          6.46588       6.46588\n",
       "  10.0829       10.0829       10.0829          10.0829       10.0829\n",
       "   ⋮                                       ⋱                \n",
       " 316.553       316.553       316.553          316.553       316.553\n",
       " 376.674       376.674       376.674          376.674       376.674\n",
       " 444.978       444.978       444.978          444.978       444.978\n",
       " 522.177       522.177       522.177       …  522.177       522.177\n",
       " 609.01        609.01        609.01           609.01        609.01\n",
       " 706.248       706.248       706.248          706.248       706.248\n",
       " 814.69        814.69        814.69           814.69        814.69\n",
       " 935.167       935.167       935.167          935.167       935.167\n",
       " 935.167       935.167       935.167       …  935.167       935.167"
      ]
     },
     "metadata": {},
     "output_type": "display_data"
    }
   ],
   "source": [
    "function egm(pars)\n",
    "    (; γ, nk, nz, toler, maxiter) = pars\n",
    "    Π, Zvals = ar1(pars)\n",
    "    Kvals = exp_grid(pars)\n",
    "    v = initial_guess(exp_grid(pars), pars)\n",
    "    v_new = zeros(nk, nz)\n",
    "    c = zeros(nk, nz)\n",
    "    derivatives = zeros(nk, nz)\n",
    "    Yvals = resource_grid(Kvals, Zvals, pars)\n",
    "    error = toler + 1\n",
    "    iter = 0\n",
    "    if iter == 0\n",
    "        println(\"Iterating...\")\n",
    "    end\n",
    "    while ((error > toler) && (iter < maxiter))\n",
    "        interpolators = [interpolate(Kvals, v[:,j], pars) for j in 1:nz]\n",
    "        for (j, interpolator) in enumerate(interpolators)\n",
    "            derivatives[:,j] = Dierckx.derivative(interpolator, Kvals)\n",
    "        end\n",
    "        c = (derivatives).^(-1/γ)\n",
    "        error = 0\n",
    "    end\n",
    "    return c\n",
    "end\n",
    "test = egm(pars)  "
   ]
  }
 ],
 "metadata": {
  "kernelspec": {
   "display_name": "Julia 1.10.1",
   "language": "julia",
   "name": "julia-1.10"
  },
  "language_info": {
   "file_extension": ".jl",
   "mimetype": "application/julia",
   "name": "julia",
   "version": "1.10.1"
  }
 },
 "nbformat": 4,
 "nbformat_minor": 2
}
