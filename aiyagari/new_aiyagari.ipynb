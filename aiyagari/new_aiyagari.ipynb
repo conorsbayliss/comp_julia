{
 "cells": [
  {
   "cell_type": "code",
   "execution_count": 1,
   "metadata": {},
   "outputs": [],
   "source": [
    "using CairoMakie, ColorSchemes, Optim, LinearAlgebra, QuantEcon"
   ]
  },
  {
   "cell_type": "code",
   "execution_count": 26,
   "metadata": {},
   "outputs": [
    {
     "data": {
      "text/plain": [
       "hpi_CES (generic function with 2 methods)"
      ]
     },
     "metadata": {},
     "output_type": "display_data"
    }
   ],
   "source": [
    "include(\"crra_code.jl\")\n",
    "include(\"ces_code.jl\")"
   ]
  },
  {
   "cell_type": "code",
   "execution_count": 2,
   "metadata": {},
   "outputs": [
    {
     "data": {
      "text/plain": [
       "labour_supply (generic function with 1 method)"
      ]
     },
     "metadata": {},
     "output_type": "display_data"
    }
   ],
   "source": [
    "function invariant_distribution(M, O, X, Y, Inv, policy, Π, Avals, n, pars)\n",
    "    (; na, nz) = pars\n",
    "    for i in 1:na\n",
    "        for j in 1:nz\n",
    "            if policy[i,j] <+ Avals[1]\n",
    "                M[i,j,1,:] = Π[j,:]\n",
    "            elseif policy[i,j] >= Avals[end]\n",
    "                M[i,j,end,:] = Π[j,:]\n",
    "            else\n",
    "                index = findfirst(x -> x > policy[i,j], Avals)\n",
    "                π = (Avals[index] - policy[i,j]) / (Avals[index] - Avals[index-1])\n",
    "                M[i,j,index-1,:] = π * Π[j,:]\n",
    "                M[i,j,index,:] = (1-π) * Π[j,:]\n",
    "            end\n",
    "        end\n",
    "    end\n",
    "    O = reshape(M, n, n)\n",
    "    for i in 1:na\n",
    "        O[i,:] = O[i,:] / sum(O[i,:])\n",
    "    end\n",
    "    X = reduce(vcat, [I(n) - O', ones(1,n)])\n",
    "    Y = [zeros(n);1]\n",
    "    Inv = X \\ Y\n",
    "    Inv[Inv .< 0] .= 0\n",
    "    Inv = Inv / sum(Inv)\n",
    "    return Inv\n",
    "end\n",
    "\n",
    "function labour_supply(Π, Zvals, pars)\n",
    "    (; nz) = pars\n",
    "    L = zeros(nz)\n",
    "    L2 = reduce(vcat, [I(nz) - Π', ones(1,nz)])\n",
    "    L3 = [zeros(nz);1]\n",
    "    L = L2 \\ L3\n",
    "    L[L .< 0] .= 0\n",
    "    L = L / sum(L)\n",
    "    L = L' * Zvals\n",
    "    return L\n",
    "end"
   ]
  },
  {
   "cell_type": "code",
   "execution_count": 17,
   "metadata": {},
   "outputs": [
    {
     "data": {
      "text/plain": [
       "(A = 0.01, α = 0.33, δ = 0.08, r_lb = 0.0, r_ub = 0.1, r_iter = 0.0, ϕ = 0.0, w = 0.01, β = 0.9, γ = 2.0, nz = 15, ρ = 0.9, μ = 0.0, σ = 0.003, θ = 3.0, na = 101, lb = 0.0, ub = 1000.0, max_iter = 1000, how_iter = 25, print_skip = 100, toler = 4.0e-7, toler_prices = 0.001, max_iter_prices = 100, print_skip_prices = 1, agrid = [0.0, 0.0010000000000000002, 0.008000000000000002, 0.027, 0.06400000000000002, 0.12500000000000003, 0.216, 0.3430000000000001, 0.5120000000000001, 0.729  …  753.5710000000001, 778.6880000000001, 804.3570000000001, 830.5839999999998, 857.3749999999999, 884.736, 912.673, 941.1919999999999, 970.2989999999999, 1000.0], zgrid = [0.03457959025122844, 0.05594303083042085, 0.09050490985451279, 0.14641928737474275, 0.23687784176339377, 0.3832221350379456, 0.6199786509779679, 1.003004504503377, 1.6226656102869836, 2.625156388616362, 4.246990890177603, 6.870802707018247, 11.115618342377728, 17.982901911474734, 29.092826975250997], Π = [6.103515625e-5 0.0008544921875 … 0.0008544921875 6.103515625e-5; 6.103515625e-5 0.0008544921875 … 0.0008544921875 6.103515625e-5; … ; 6.103515625e-5 0.0008544921875 … 0.0008544921875 6.103515625e-5; 6.103515625e-5 0.0008544921875 … 0.0008544921875 6.103515625e-5])"
      ]
     },
     "metadata": {},
     "output_type": "display_data"
    }
   ],
   "source": [
    "ces_model = create_model_CES()"
   ]
  },
  {
   "cell_type": "code",
   "execution_count": 24,
   "metadata": {},
   "outputs": [
    {
     "data": {
      "text/plain": [
       "equilibrium_vfi_CES (generic function with 1 method)"
      ]
     },
     "metadata": {},
     "output_type": "display_data"
    }
   ],
   "source": [
    "function equilibrium_vfi_CES(pars)\n",
    "    (; agrid, zgrid, Π, na, nz, toler_prices, max_iter_prices, print_skip_prices, r_lb, r_ub, w, β, A, α, ϕ, δ) = pars\n",
    "    n = na * nz\n",
    "    M = zeros(na, nz, na, nz)\n",
    "    O = zeros(n, n)\n",
    "    X = zeros(n+1,n)\n",
    "    Y = zeros(n+1)\n",
    "    Inv = zeros(n)\n",
    "    v_init = zeros(na,nz)\n",
    "    policy = similar(v_init)\n",
    "    wealth = zeros(na,nz)\n",
    "    L = labour_supply(Π, zgrid, pars)\n",
    "    Ks, Kd = 1, 1\n",
    "    store_Kd = []\n",
    "    store_Ks = []\n",
    "    store_r = []\n",
    "    iter = 0\n",
    "    error = toler_prices + 1\n",
    "    if iter == 0\n",
    "        println(\"Iterating on prices...\")\n",
    "    end\n",
    "    while ((error > toler_prices) && (iter < max_iter_prices))\n",
    "        println(\"////////////////////\")\n",
    "        println(\"Price Iteration: $iter\")\n",
    "        r_iter = (pars.r_lb + pars.r_ub) / 2\n",
    "        push!(store_r, r_iter)\n",
    "        Kd = ((A^α * L ^ (1-α)) / (r_iter + δ))^1/(1-α)\n",
    "        push!(store_Kd, Kd)\n",
    "        w_iter = (1-α) * A * (Kd/L)^α\n",
    "        Φ = w_iter * ((minimum(zgrid))/r_iter)\n",
    "        if ϕ > 0\n",
    "            ϕ_iter = min(Φ, minimum(zgrid))\n",
    "            pars = (; pars..., ϕ = ϕ_iter, r_iter = r_iter, w = w_iter)\n",
    "        else\n",
    "            pars = (; pars..., r_iter = r_iter, w = w_iter)\n",
    "        end\n",
    "        v_new, policy = vfi_CES(v_init, policy, Π, zgrid, agrid, pars)\n",
    "        Invariant = invariant_distribution(M, O, X, Y, Inv, policy, Π, agrid, n, pars)\n",
    "        G = reshape(policy .- ϕ, n, 1)\n",
    "        Ks = dot(Invariant', G)\n",
    "        push!(store_Ks, Ks)\n",
    "        diff = Ks - Kd\n",
    "        error = abs(diff)\n",
    "        if diff > 0\n",
    "            pars = (; pars..., r_ub = r_iter)\n",
    "        else\n",
    "            pars = (; pars..., r_lb = r_iter)\n",
    "        end\n",
    "        if iter % print_skip_prices == 0\n",
    "            println(\"%%%%%%%%%%%%%%%%%%%%\")\n",
    "            println(\"Iter = $iter, Ks = $Ks, Kd = $Kd, diff = $diff\")\n",
    "            println(\"%%%%%%%%%%%%%%%%%%%%\")\n",
    "        end\n",
    "        v_init .= v_new\n",
    "        iter += 1\n",
    "    end\n",
    "    r_final = (pars.r_lb + pars.r_ub) / 2\n",
    "    w_final = (1-α) * A * (Kd/L)^α\n",
    "    Invariant = reshape(Invariant, na, nz)\n",
    "    for i in 1:na\n",
    "        for j in 1:nz\n",
    "            wealth[i,j] = w_final * exp(Zvals[j]) + (1 + r_final) * Avals[i]\n",
    "        end\n",
    "    end\n",
    "    println(\"%%%%%%%%%%%%%%%%%%%%\")\n",
    "    println(\"r = $r_final, w = $w_final\")\n",
    "    println(\"%%%%%%%%%%%%%%%%%%%%\")\n",
    "    return v_init, policy, Invariant, wealth\n",
    "end"
   ]
  },
  {
   "cell_type": "code",
   "execution_count": 27,
   "metadata": {},
   "outputs": [
    {
     "name": "stdout",
     "output_type": "stream",
     "text": [
      "Iterating on prices...\n",
      "////////////////////\n",
      "Price Iteration: 0\n"
     ]
    },
    {
     "ename": "ErrorException",
     "evalue": "type NamedTuple has no field maxiter",
     "output_type": "error",
     "traceback": [
      "type NamedTuple has no field maxiter\n",
      "\n",
      "Stacktrace:\n",
      " [1] getproperty\n",
      "   @ .\\Base.jl:37 [inlined]\n",
      " [2] vfi_CES(v_init::Matrix{Float64}, policy::Matrix{Float64}, Π::Matrix{Float64}, Zvals::Vector{Float64}, Avals::Vector{Float64}, p::@NamedTuple{A::Float64, α::Float64, δ::Float64, r_lb::Float64, r_ub::Float64, r_iter::Float64, ϕ::Float64, w::Float64, β::Float64, γ::Float64, nz::Int64, ρ::Float64, μ::Float64, σ::Float64, θ::Float64, na::Int64, lb::Float64, ub::Float64, max_iter::Int64, how_iter::Int64, print_skip::Int64, toler::Float64, toler_prices::Float64, max_iter_prices::Int64, print_skip_prices::Int64, agrid::Vector{Float64}, zgrid::Vector{Float64}, Π::Matrix{Float64}})\n",
      "   @ Main c:\\Users\\bayle\\Documents\\Github\\comp_julia\\aiyagari\\ces_code.jl:45\n",
      " [3] equilibrium_vfi_CES(pars::@NamedTuple{A::Float64, α::Float64, δ::Float64, r_lb::Float64, r_ub::Float64, r_iter::Float64, ϕ::Float64, w::Float64, β::Float64, γ::Float64, nz::Int64, ρ::Float64, μ::Float64, σ::Float64, θ::Float64, na::Int64, lb::Float64, ub::Float64, max_iter::Int64, how_iter::Int64, print_skip::Int64, toler::Float64, toler_prices::Float64, max_iter_prices::Int64, print_skip_prices::Int64, agrid::Vector{Float64}, zgrid::Vector{Float64}, Π::Matrix{Float64}})\n",
      "   @ Main c:\\Users\\bayle\\Documents\\Github\\comp_julia\\aiyagari\\jl_notebook_cell_df34fa98e69747e1a8f8a730347b8e2f_W6sZmlsZQ==.jl:37\n",
      " [4] top-level scope\n",
      "   @ c:\\Users\\bayle\\Documents\\Github\\comp_julia\\aiyagari\\jl_notebook_cell_df34fa98e69747e1a8f8a730347b8e2f_X10sZmlsZQ==.jl:1"
     ]
    }
   ],
   "source": [
    "v_out, policy_out, Invariant_out, wealth_out = equilibrium_vfi_CES(ces_model)"
   ]
  }
 ],
 "metadata": {
  "kernelspec": {
   "display_name": "Julia 1.10.1",
   "language": "julia",
   "name": "julia-1.10"
  },
  "language_info": {
   "file_extension": ".jl",
   "mimetype": "application/julia",
   "name": "julia",
   "version": "1.10.1"
  }
 },
 "nbformat": 4,
 "nbformat_minor": 2
}
