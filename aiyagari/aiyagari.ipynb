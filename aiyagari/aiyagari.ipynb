{
 "cells": [
  {
   "cell_type": "code",
   "execution_count": 11,
   "metadata": {},
   "outputs": [],
   "source": [
    "using CairoMakie, QuantEcon, LinearAlgebra, Optim, Dierckx"
   ]
  },
  {
   "cell_type": "code",
   "execution_count": 12,
   "metadata": {},
   "outputs": [
    {
     "data": {
      "text/plain": [
       "hpi_CES (generic function with 1 method)"
      ]
     },
     "metadata": {},
     "output_type": "display_data"
    }
   ],
   "source": [
    "include(\"crra_code.jl\")\n",
    "include(\"ces_code.jl\")"
   ]
  },
  {
   "cell_type": "code",
   "execution_count": 30,
   "metadata": {},
   "outputs": [
    {
     "data": {
      "text/plain": [
       "(A = 1.0, α = 0.33, δ = 0.05, r = 0.0, w = 1.0, β = 0.9, γ = 2.0, nz = 13, ρ = 0.9, μ = 0.0, σ = 0.003, na = 101, ϕ = 0.0, θ = 4.0, toler = 4.0e-7, maxiter = 1000, print_skip = 100, how_iter = 75, toler_prices = 0.001, maxiter_prices = 100, print_skip_prices = 10, lb = 0.0, ub = 10000.0)"
      ]
     },
     "metadata": {},
     "output_type": "display_data"
    }
   ],
   "source": [
    "pars = (;A = 1.0, # total factor productivity\n",
    "    α = 0.33, # capital share\n",
    "    δ = 0.05, # depreciation rate\n",
    "    r = 0.00, # interest rate\n",
    "    w = 1.0, # wage\n",
    "    β = 0.9, # discount factor\n",
    "    γ = 2.0, # risk aversion\n",
    "    nz = 13, # number of grid points for z\n",
    "    ρ = 0.9, # persistence of AR1\n",
    "    μ = 0.0, # mean of AR1\n",
    "    σ = 0.003, # std of AR1\n",
    "    na = 101, # number of asset grid points\n",
    "    ϕ = 0.0, # borrowing constraint\n",
    "    θ = 4.0, # grid expansion factor\n",
    "    toler = 4e-7, # tolerance\n",
    "    maxiter = 1000, # maximum no. of iterations\n",
    "    print_skip = 100, # how often to print\n",
    "    how_iter = 75, # number of Howard iterations\n",
    "    toler_prices = 1e-3, # tolerance\n",
    "    maxiter_prices = 100, # maximum no. of iterations\n",
    "    print_skip_prices = 10, # how often to print\n",
    "    lb = 0.0, # lower bound of capital grid\n",
    "    ub = 10000.0) # upper bound of capital grid"
   ]
  },
  {
   "cell_type": "code",
   "execution_count": 31,
   "metadata": {},
   "outputs": [
    {
     "data": {
      "text/plain": [
       "invariant_distribution (generic function with 1 method)"
      ]
     },
     "metadata": {},
     "output_type": "display_data"
    }
   ],
   "source": [
    "function invariant_distribution(M, O, X, Y, Inv, policy, Π, Avals, n, pars)\n",
    "    (; na, nz) = pars\n",
    "    for i in 1:na\n",
    "        for j in 1:nz\n",
    "            if policy[i,j] <+ Avals[1]\n",
    "                M[i,j,1,:] = Π[j,:]\n",
    "            elseif policy[i,j] >= Avals[end]\n",
    "                M[i,j,end,:] = Π[j,:]\n",
    "            else\n",
    "                index = findfirst(x -> x > policy[i,j], Avals)\n",
    "                π = (Avals[index] - policy[i,j]) / (Avals[index] - Avals[index-1])\n",
    "                M[i,j,index-1,:] = π * Π[j,:]\n",
    "                M[i,j,index,:] = (1-π) * Π[j,:]\n",
    "            end\n",
    "        end\n",
    "    end\n",
    "    O = reshape(M, n, n)\n",
    "    for i in 1:na\n",
    "        O[i,:] = O[i,:] / sum(O[i,:])\n",
    "    end\n",
    "    X = reduce(vcat, [I(n) - O', ones(n)])\n",
    "    Y = [zeros(n);1]\n",
    "    # Inv = lstsq(X, Y).solution\n",
    "    Inv = X \\ Y\n",
    "    Inv[Inv .< 0] .= 0\n",
    "    Inv = Inv / sum(Inv)\n",
    "    return Inv\n",
    "end"
   ]
  },
  {
   "cell_type": "code",
   "execution_count": 32,
   "metadata": {},
   "outputs": [
    {
     "data": {
      "text/plain": [
       "labour_supply (generic function with 1 method)"
      ]
     },
     "metadata": {},
     "output_type": "display_data"
    }
   ],
   "source": [
    "function labour_supply(Π, Zvals, pars)\n",
    "    (; nz) = pars\n",
    "    L = zeros(nz)\n",
    "    L2 = reduce(vcat, [I(nz) - Π', ones(1,nz)])\n",
    "    L3 = [zeros(nz);1]\n",
    "    # L = lstsq(L2, L3).solution\n",
    "    L = L2 \\ L3\n",
    "    L[L .< 0] .= 0\n",
    "    L = L / sum(L)\n",
    "    L = L' * Zvals\n",
    "    return L\n",
    "end"
   ]
  },
  {
   "cell_type": "code",
   "execution_count": 51,
   "metadata": {},
   "outputs": [
    {
     "data": {
      "text/plain": [
       "equilibrium (generic function with 1 method)"
      ]
     },
     "metadata": {},
     "output_type": "display_data"
    }
   ],
   "source": [
    "function equilibrium(pars)\n",
    "    (; na, nz, toler_prices, maxiter_prices, print_skip_prices, r, w, β, A, α, ϕ, δ) = pars\n",
    "    n = na * nz\n",
    "    M = zeros(na, nz, na, nz)\n",
    "    O = zeros(n, n)\n",
    "    X = zeros(n+1,n)\n",
    "    Y = zeros(n+1)\n",
    "    Inv = zeros(n)\n",
    "    Π, Zvals = ar1(pars)\n",
    "    Avals = exp_grid(pars)\n",
    "    v_init = zeros(na,nz)\n",
    "    policy = similar(v_init)\n",
    "    wealth = zeros(na,nz)\n",
    "    initial_distribution = zeros(n,1)\n",
    "    L = labour_supply(Π, Zvals, pars)\n",
    "    Ks, Kd = 1, 1\n",
    "    iter = 0\n",
    "    error = toler_prices + 1\n",
    "    rnew = 1/β - 1\n",
    "    if iter == 0\n",
    "        println(\"Iterating on prices...\")\n",
    "    end\n",
    "    while ((error > toler_prices) && (iter < maxiter_prices))\n",
    "        println(\"//////////////////////\")\n",
    "        println(\"Price Iteration: $iter\")\n",
    "        r_iter = (r + rnew) / 2\n",
    "        Kd = (A^α * L ^ (1-α)) / (r_iter + δ)^(1/(1-α))\n",
    "        w_iter = (1-α) * A * (Kd/L)^α\n",
    "        Φ = w_iter * (exp(minimum(Zvals))/r_iter)\n",
    "        if ϕ > 0\n",
    "            ϕ_iter = exp(minimum(Zvals))(Φ, ϕ)\n",
    "            pars = (; pars..., ϕ = ϕ_iter, r = r_iter, w = w_iter)\n",
    "        else\n",
    "            pars = (; pars..., r = r_iter, w = w_iter)\n",
    "        end\n",
    "        v_new, policy = vfi(v_init, policy, Π, Zvals, Avals, pars)\n",
    "        println(\"Converged for r = $r_iter, w = $w_iter\")\n",
    "        Invariant = invariant_distribution(M, O, X, Y, Inv, policy, Π, Avals, n, pars)\n",
    "        G = reshape(policy .- ϕ, n, 1)\n",
    "        Ks = dot(Invariant', G)\n",
    "        diff = Ks - Kd\n",
    "        error = abs(diff)\n",
    "        if diff > 0\n",
    "            rnew = r_iter\n",
    "        else\n",
    "            r = r_iter\n",
    "        end\n",
    "        if iter % print_skip_prices == 0\n",
    "            println(\"%%%%%%%%%%%%%%%%%%\")\n",
    "            println(\"Iter = $iter, r = $r, w = $w, Ks = $Ks, Kd = $Kd, diff = $diff\")\n",
    "            println(\"%%%%%%%%%%%%%%%%%%\")\n",
    "        end\n",
    "        v_init .= v_new\n",
    "        iter += 1\n",
    "    end\n",
    "    r_final = r + rnew / 2\n",
    "    w_final = (1-α) * A * (Kd/L)^α\n",
    "    for i in 1:na\n",
    "        for j in 1:nz\n",
    "            wealth[i,j] = w_final * exp(Zvals[j]) + (1 + r_final) * Avals[i]\n",
    "        end\n",
    "    end\n",
    "    return Ks, Kd, r_final, w_final, v_new, policy, Invariant, wealth\n",
    "end"
   ]
  },
  {
   "cell_type": "code",
   "execution_count": 52,
   "metadata": {},
   "outputs": [
    {
     "name": "stdout",
     "output_type": "stream",
     "text": [
      "Iterating on prices...\n",
      "//////////////////////\n",
      "Price Iteration: 0\n",
      "Iterating...\n",
      "--------------------\n",
      "Iteration: 0, Error: 0.8550875874757875\n",
      "--------------------\n",
      "Iteration: 100, Error: 4.0785550469735974e-6\n",
      "--------------------\n",
      "Converged in 124 iterations\n",
      "--------------------\n",
      "Converged for r = 0.05555555555555558, w = 3.817581308584292\n"
     ]
    },
    {
     "ename": "DimensionMismatch",
     "evalue": "DimensionMismatch: number of columns of each array must match (got (1313, 1))",
     "output_type": "error",
     "traceback": [
      "DimensionMismatch: number of columns of each array must match (got (1313, 1))\n",
      "\n",
      "Stacktrace:\n",
      "  [1] _typed_vcat(::Type{Float64}, A::Tuple{Matrix{Float64}, Vector{Float64}})\n",
      "    @ Base .\\abstractarray.jl:1702\n",
      "  [2] typed_vcat\n",
      "    @ .\\abstractarray.jl:1716 [inlined]\n",
      "  [3] vcat(X1::Matrix{Float64}, X::Vector{Float64})\n",
      "    @ SparseArrays C:\\Users\\bayle\\.julia\\juliaup\\julia-1.10.1+0.x64.w64.mingw32\\share\\julia\\stdlib\\v1.10\\SparseArrays\\src\\sparsevector.jl:1239\n",
      "  [4] _mapreduce(f::typeof(identity), op::typeof(vcat), ::IndexLinear, A::Vector{Array{Float64}})\n",
      "    @ Base .\\reduce.jl:440\n",
      "  [5] _mapreduce_dim\n",
      "    @ .\\reducedim.jl:365 [inlined]\n",
      "  [6] mapreduce\n",
      "    @ .\\reducedim.jl:357 [inlined]\n",
      "  [7] reduce\n",
      "    @ .\\reducedim.jl:406 [inlined]\n",
      "  [8] invariant_distribution(M::Array{Float64, 4}, O::Matrix{Float64}, X::Matrix{Float64}, Y::Vector{Float64}, Inv::Vector{Float64}, policy::Matrix{Float64}, Π::Matrix{Float64}, Avals::Vector{Float64}, n::Int64, pars::@NamedTuple{A::Float64, α::Float64, δ::Float64, r::Float64, w::Float64, β::Float64, γ::Float64, nz::Int64, ρ::Float64, μ::Float64, σ::Float64, na::Int64, ϕ::Float64, θ::Float64, toler::Float64, maxiter::Int64, print_skip::Int64, how_iter::Int64, toler_prices::Float64, maxiter_prices::Int64, print_skip_prices::Int64, lb::Float64, ub::Float64})\n",
      "    @ Main c:\\Users\\bayle\\Documents\\Github\\comp_julia\\aiyagari\\aiyagari.ipynb:21\n",
      "  [9] equilibrium(pars::@NamedTuple{A::Float64, α::Float64, δ::Float64, r::Float64, w::Float64, β::Float64, γ::Float64, nz::Int64, ρ::Float64, μ::Float64, σ::Float64, na::Int64, ϕ::Float64, θ::Float64, toler::Float64, maxiter::Int64, print_skip::Int64, how_iter::Int64, toler_prices::Float64, maxiter_prices::Int64, print_skip_prices::Int64, lb::Float64, ub::Float64})\n",
      "    @ Main c:\\Users\\bayle\\Documents\\Github\\comp_julia\\aiyagari\\aiyagari.ipynb:39\n",
      " [10] top-level scope\n",
      "    @ c:\\Users\\bayle\\Documents\\Github\\comp_julia\\aiyagari\\aiyagari.ipynb:1"
     ]
    }
   ],
   "source": [
    "test = equilibrium(pars)"
   ]
  }
 ],
 "metadata": {
  "kernelspec": {
   "display_name": "Julia 1.10.1",
   "language": "julia",
   "name": "julia-1.10"
  },
  "language_info": {
   "file_extension": ".jl",
   "mimetype": "application/julia",
   "name": "julia",
   "version": "1.10.1"
  }
 },
 "nbformat": 4,
 "nbformat_minor": 2
}
