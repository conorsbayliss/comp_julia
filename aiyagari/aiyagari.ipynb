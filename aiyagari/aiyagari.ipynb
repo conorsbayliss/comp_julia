{
 "cells": [
  {
   "cell_type": "code",
   "execution_count": 5,
   "metadata": {},
   "outputs": [],
   "source": [
    "using CairoMakie, QuantEcon, LinearAlgebra, Optim, Dierckx"
   ]
  },
  {
   "cell_type": "code",
   "execution_count": 6,
   "metadata": {},
   "outputs": [
    {
     "data": {
      "text/plain": [
       "hpi_CES (generic function with 1 method)"
      ]
     },
     "metadata": {},
     "output_type": "display_data"
    }
   ],
   "source": [
    "include(\"crra_code.jl\")\n",
    "include(\"ces_code.jl\")"
   ]
  },
  {
   "cell_type": "code",
   "execution_count": 7,
   "metadata": {},
   "outputs": [
    {
     "data": {
      "text/plain": [
       "invariant_distribution (generic function with 1 method)"
      ]
     },
     "metadata": {},
     "output_type": "display_data"
    }
   ],
   "source": [
    "function invariant_distribution(M, O, X, Y, Inv, policy, Π, Avals, n, pars)\n",
    "    (; na, nz) = pars\n",
    "    for i in 1:na\n",
    "        for j in 1:nz\n",
    "            if policy[i,j] <+ Avals[1]\n",
    "                M[i,j,1,:] = Π[j,:]\n",
    "            elseif policy[i,j] >= Avals[end]\n",
    "                M[i,j,end,:] = Π[j,:]\n",
    "            else\n",
    "                index = findfirst(x -> x > policy[i,j], Avals)\n",
    "                π = (Avals[index] - policy[i,j]) / (Avals[index] - Avals[index-1])\n",
    "                M[i,j,index-1,:] = π * Π[j,:]\n",
    "                M[i,j,index,:] = (1-π) * Π[j,:]\n",
    "            end\n",
    "        end\n",
    "    end\n",
    "    O = reshape(M, n, n)\n",
    "    for i in 1:na\n",
    "        O[i,:] = O[i,:] / sum(O[i,:])\n",
    "    end\n",
    "    X = reduce(vcat, [I(n) - O', ones(n)])\n",
    "    Y = [zeros(n);1]\n",
    "    # Inv = lstsq(X, Y).solution\n",
    "    Inv = X \\ Y\n",
    "    Inv[Inv .< 0] .= 0\n",
    "    Inv = Inv / sum(Inv)\n",
    "    return Inv\n",
    "end"
   ]
  },
  {
   "cell_type": "code",
   "execution_count": 8,
   "metadata": {},
   "outputs": [
    {
     "data": {
      "text/plain": [
       "labour_supply (generic function with 1 method)"
      ]
     },
     "metadata": {},
     "output_type": "display_data"
    }
   ],
   "source": [
    "function labour_supply(Π, Zvals, pars)\n",
    "    (; nz) = pars\n",
    "    L = zeros(nz)\n",
    "    L2 = reduce(vcat, [I(nz) - Π', ones(nz)])\n",
    "    L3 = [zeros(nz);1]\n",
    "    L = L2 \\ L3\n",
    "    L[L .< 0] .= 0\n",
    "    L = L / sum(L)\n",
    "    return L\n",
    "end"
   ]
  },
  {
   "cell_type": "code",
   "execution_count": null,
   "metadata": {},
   "outputs": [],
   "source": [
    "function equilibrium(pars)\n",
    "    (; na, nz, toler_prices, maxiter_prices, r, w, β, A, α) = pars\n",
    "    n = na * nz\n",
    "    M = zeros(na, nz, na, nz)\n",
    "    O = zeros(n, n)\n",
    "    X = zeros(n+1,n)\n",
    "    Y = zeros(n+1)\n",
    "    Inv = zeros(n)\n",
    "    Π, Zvals = ar1(pars)\n",
    "    Avals = exp_grid(pars)\n",
    "    v_init = zeros(na,nz)\n",
    "    v_new = similar(v_init)\n",
    "    policy = similar(v_init)\n",
    "    initial_distribution = zeros(n,1)\n",
    "    L = labour_supply(Π, Zvals, pars)\n",
    "    Ks, Kd = 1, 1\n",
    "    iter = 0\n",
    "    error = toler + 1\n",
    "    rnew = 1/β - 1\n",
    "    r_iter = (r + rnew) / 2\n",
    "    if iter == 0\n",
    "        println(\"Iterating on prices...\")\n",
    "    end\n",
    "    while ((error > toler_prices) && (iter < maxiter_prices))\n",
    "        println(\"//////////////////////\")\n",
    "        println(\"Price Iteration: $iter\")\n",
    "        Kd = (A^α * L ^ (1-α)) / (r_iter + δ)^(1/(1-α))\n",
    "        w_iter = (1-α) * A * (Kd/L)^α\n",
    "        pars = (; r = r_iter, w = w_iter, ...)\n",
    "        v_new, policy = hpi(v_init, policy, Π, Zvals, Avals, v_new, pars)\n",
    "        println(\"Converged for r = $r_iter, w = $w_iter\")\n",
    "        Invariant = invariant_distribution(M, O, X, Y, Inv, policy, Π, Avals, n, pars)\n",
    "        G = reshape(policy, n, 1)\n"
   ]
  }
 ],
 "metadata": {
  "kernelspec": {
   "display_name": "Julia 1.10.1",
   "language": "julia",
   "name": "julia-1.10"
  },
  "language_info": {
   "file_extension": ".jl",
   "mimetype": "application/julia",
   "name": "julia",
   "version": "1.10.1"
  }
 },
 "nbformat": 4,
 "nbformat_minor": 2
}
