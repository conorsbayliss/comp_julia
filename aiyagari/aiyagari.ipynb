{
 "cells": [
  {
   "cell_type": "code",
   "execution_count": 5,
   "metadata": {},
   "outputs": [],
   "source": [
    "using CairoMakie, QuantEcon, LinearAlgebra, Optim, Dierckx"
   ]
  },
  {
   "cell_type": "code",
   "execution_count": 6,
   "metadata": {},
   "outputs": [
    {
     "data": {
      "text/plain": [
       "hpi_CES (generic function with 1 method)"
      ]
     },
     "metadata": {},
     "output_type": "display_data"
    }
   ],
   "source": [
    "include(\"crra_code.jl\")\n",
    "include(\"ces_code.jl\")"
   ]
  },
  {
   "cell_type": "code",
   "execution_count": 7,
   "metadata": {},
   "outputs": [
    {
     "data": {
      "text/plain": [
       "invariant_distribution (generic function with 1 method)"
      ]
     },
     "metadata": {},
     "output_type": "display_data"
    }
   ],
   "source": [
    "function invariant_distribution(M, O, X, Y, Inv, policy, Π, Avals, n, pars)\n",
    "    (; na, nz) = pars\n",
    "    for i in 1:na\n",
    "        for j in 1:nz\n",
    "            if policy[i,j] <+ Avals[1]\n",
    "                M[i,j,1,:] = Π[j,:]\n",
    "            elseif policy[i,j] >= Avals[end]\n",
    "                M[i,j,end,:] = Π[j,:]\n",
    "            else\n",
    "                index = findfirst(x -> x > policy[i,j], Avals)\n",
    "                π = (Avals[index] - policy[i,j]) / (Avals[index] - Avals[index-1])\n",
    "                M[i,j,index-1,:] = π * Π[j,:]\n",
    "                M[i,j,index,:] = (1-π) * Π[j,:]\n",
    "            end\n",
    "        end\n",
    "    end\n",
    "    O = reshape(M, n, n)\n",
    "    for i in 1:na\n",
    "        O[i,:] = O[i,:] / sum(O[i,:])\n",
    "    end\n",
    "    X = reduce(vcat, [I(n) - O', ones(n)])\n",
    "    Y = [zeros(n);1]\n",
    "    Inv = lstsq(X, Y).solution\n",
    "    Inv[Inv < 0] .= 0\n",
    "    Inv = Inv / sum(Inv)\n",
    "    return Inv\n",
    "end"
   ]
  },
  {
   "cell_type": "code",
   "execution_count": null,
   "metadata": {},
   "outputs": [],
   "source": [
    "function equilibrium(pars)\n",
    "    (; na, nz) = pars\n",
    "    n = na * nz\n",
    "    M = zeros(na, nz, na, nz)\n",
    "    O = zeros(n, n)\n",
    "    X = zeros(n+1,n)\n",
    "    Y = zeros(n+1)\n",
    "    Inv = zeros(n)"
   ]
  }
 ],
 "metadata": {
  "kernelspec": {
   "display_name": "Julia 1.10.1",
   "language": "julia",
   "name": "julia-1.10"
  },
  "language_info": {
   "file_extension": ".jl",
   "mimetype": "application/julia",
   "name": "julia",
   "version": "1.10.1"
  }
 },
 "nbformat": 4,
 "nbformat_minor": 2
}
