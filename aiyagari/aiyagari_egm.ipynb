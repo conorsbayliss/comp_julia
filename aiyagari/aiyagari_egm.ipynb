{
 "cells": [
  {
   "cell_type": "code",
   "execution_count": 56,
   "metadata": {},
   "outputs": [],
   "source": [
    "using CairoMakie"
   ]
  },
  {
   "cell_type": "code",
   "execution_count": 73,
   "metadata": {},
   "outputs": [
    {
     "data": {
      "text/plain": [
       "labour_supply (generic function with 2 methods)"
      ]
     },
     "metadata": {},
     "output_type": "display_data"
    }
   ],
   "source": [
    "include(\"egm_code.jl\")"
   ]
  },
  {
   "cell_type": "code",
   "execution_count": 74,
   "metadata": {},
   "outputs": [
    {
     "data": {
      "text/plain": [
       "(n = 9519, na = 501, nz = 19, α = 0.33, β = 0.96, A = 0.08, γ = 2.0, δ = 0.1, θ = 2, lb = 0, ub = 500.0, ρ = 0.9, μ = 0.0, σ = 0.003, agrid = [0.0, 0.002, 0.008, 0.018000000000000002, 0.032, 0.05, 0.07200000000000001, 0.098, 0.128, 0.16199999999999998  …  482.162, 484.128, 486.09799999999996, 488.072, 490.05, 492.032, 494.01800000000003, 496.008, 498.002, 500.0], zgrid = -3.815376618407356:0.42426406871192845:3.8213766184073563, Π = [3.814697265625e-6 6.866455078125e-5 … 6.866455078125e-5 3.814697265625e-6; 3.814697265625e-6 6.866455078125e-5 … 6.866455078125e-5 3.814697265625e-6; … ; 3.814697265625e-6 6.866455078125e-5 … 6.866455078125e-5 3.814697265625e-6; 3.814697265625e-6 6.866455078125e-5 … 6.866455078125e-5 3.814697265625e-6], w = 1.0, r_lb = 0.0, r_ub = 0.1, r_iter = 0.0, ϕ = 0.0, toler = 1.0e-6, maxiter = 500, print_skip_pol = 5, print_skip_val = 50)"
      ]
     },
     "metadata": {},
     "output_type": "display_data"
    }
   ],
   "source": [
    "model = create_EGM_model_aiyagari(;na = 501, nz = 19)"
   ]
  }
 ],
 "metadata": {
  "kernelspec": {
   "display_name": "Julia 1.10.1",
   "language": "julia",
   "name": "julia-1.10"
  },
  "language_info": {
   "file_extension": ".jl",
   "mimetype": "application/julia",
   "name": "julia",
   "version": "1.10.1"
  }
 },
 "nbformat": 4,
 "nbformat_minor": 2
}
