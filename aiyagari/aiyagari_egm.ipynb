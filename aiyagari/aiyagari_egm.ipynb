{
 "cells": [
  {
   "cell_type": "code",
   "execution_count": 1,
   "metadata": {},
   "outputs": [],
   "source": [
    "using CairoMakie"
   ]
  },
  {
   "cell_type": "code",
   "execution_count": 2,
   "metadata": {},
   "outputs": [
    {
     "data": {
      "text/plain": [
       "labour_supply (generic function with 1 method)"
      ]
     },
     "metadata": {},
     "output_type": "display_data"
    }
   ],
   "source": [
    "include(\"egm_code.jl\")"
   ]
  },
  {
   "cell_type": "code",
   "execution_count": 4,
   "metadata": {},
   "outputs": [
    {
     "data": {
      "text/plain": [
       "(n = 1919, na = 101, nz = 19, α = 0.33, β = 0.96, A = 0.08, γ = 2.0, δ = 0.1, θ = 2, lb = 0, ub = 500.0, ρ = 0.9, μ = 0.0, σ = 0.003, agrid = [0.0, 0.05, 0.2, 0.45, 0.8, 1.2500000000000002, 1.8, 2.45, 3.2, 4.05  …  414.05, 423.20000000000005, 432.45000000000005, 441.79999999999995, 451.25, 460.8, 470.45, 480.19999999999993, 490.05, 500.0], zgrid = -3.815376618407356:0.42426406871192845:3.8213766184073563, Π = [3.814697265625e-6 6.866455078125e-5 … 6.866455078125e-5 3.814697265625e-6; 3.814697265625e-6 6.866455078125e-5 … 6.866455078125e-5 3.814697265625e-6; … ; 3.814697265625e-6 6.866455078125e-5 … 6.866455078125e-5 3.814697265625e-6; 3.814697265625e-6 6.866455078125e-5 … 6.866455078125e-5 3.814697265625e-6], w = 1.0, r_lb = 0.0, r_ub = 0.1, r_iter = 0.0, ϕ = 0.0, toler = 1.0e-6, maxiter = 500, print_skip_pol = 5, print_skip_val = 50)"
      ]
     },
     "metadata": {},
     "output_type": "display_data"
    }
   ],
   "source": [
    "model = create_EGM_model_aiyagari()"
   ]
  }
 ],
 "metadata": {
  "kernelspec": {
   "display_name": "Julia 1.10.1",
   "language": "julia",
   "name": "julia-1.10"
  },
  "language_info": {
   "file_extension": ".jl",
   "mimetype": "application/julia",
   "name": "julia",
   "version": "1.10.1"
  }
 },
 "nbformat": 4,
 "nbformat_minor": 2
}
