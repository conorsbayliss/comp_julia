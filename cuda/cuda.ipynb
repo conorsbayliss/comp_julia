{
 "cells": [
  {
   "cell_type": "code",
   "execution_count": 1,
   "metadata": {},
   "outputs": [],
   "source": [
    "using QuantEcon, CairoMakie, CUDA"
   ]
  },
  {
   "cell_type": "code",
   "execution_count": 2,
   "metadata": {},
   "outputs": [
    {
     "data": {
      "text/plain": [
       "\"NVIDIA GeForce RTX 3080 Ti Laptop GPU\""
      ]
     },
     "metadata": {},
     "output_type": "display_data"
    }
   ],
   "source": [
    "CUDA.name(CUDA.device())"
   ]
  },
  {
   "cell_type": "code",
   "execution_count": 50,
   "metadata": {},
   "outputs": [
    {
     "data": {
      "text/plain": [
       "1024"
      ]
     },
     "metadata": {},
     "output_type": "display_data"
    }
   ],
   "source": [
    "max_threads_per_block = CUDA.attribute(CUDA.device(), CUDA.DEVICE_ATTRIBUTE_MAX_THREADS_PER_BLOCK)"
   ]
  },
  {
   "cell_type": "code",
   "execution_count": 58,
   "metadata": {},
   "outputs": [
    {
     "data": {
      "text/plain": [
       "params (generic function with 1 method)"
      ]
     },
     "metadata": {},
     "output_type": "display_data"
    }
   ],
   "source": [
    "function params(;nk = 101)\n",
    "    p = (α = 0.33, # Capital share\n",
    "         β = 0.99, # Discount factor\n",
    "         A = 10.0, # TFP\n",
    "         δ = 0.1, # Depreciation rate\n",
    "         kmin = 1e-4, # Minimum capital\n",
    "         kmax = 100, # Maximum capital\n",
    "         θ = 3.0, # Grid expansion parameter\n",
    "         γ = 2.0, # Risk aversion\n",
    "         kgrid = zeros(Float32, nk), # Capital grid\n",
    "         maxiter = 100000, # Maximum number of iterations\n",
    "         tol = 1e-6) # Tolerance\n",
    "\n",
    "    # Create capital grid\n",
    "    kgrid = LinRange(p.kmin, p.kmax, nk)\n",
    "    temp_grid = LinRange(0, 1, nk)\n",
    "    kgrid = p.kmin .+ (p.kmax - p.kmin) * temp_grid.^p.θ\n",
    "    \n",
    "    #Return new NamedTuple\n",
    "    p = (p..., kgrid = kgrid)\n",
    "    \n",
    "    return p\n",
    "end"
   ]
  },
  {
   "cell_type": "code",
   "execution_count": 59,
   "metadata": {},
   "outputs": [
    {
     "data": {
      "text/plain": [
       "101-element CuArray{Float64, 1, CUDA.Mem.DeviceBuffer}:\n",
       "   1.0001\n",
       "   1.0001999999\n",
       "   1.0008999992\n",
       "   1.0027999973\n",
       "   1.0064999936\n",
       "   1.0125999875\n",
       "   1.0216999784\n",
       "   1.0343999657\n",
       "   1.0512999488\n",
       "   1.0729999271\n",
       "   ⋮\n",
       "  78.8688221312\n",
       "  81.43571956430002\n",
       "  84.05841694159999\n",
       "  86.73751426249999\n",
       "  89.47361152639999\n",
       "  92.2673087327\n",
       "  95.1192058808\n",
       "  98.0299029701\n",
       " 101.0"
      ]
     },
     "metadata": {},
     "output_type": "display_data"
    }
   ],
   "source": [
    "function gpu_test(grid)\n",
    "    return grid .+ 1 \n",
    "end\n",
    "\n",
    "p = params(nk = 101)\n",
    "kgrid_d = CuArray(p.kgrid)\n",
    "@time gpu_test(kgrid_d)"
   ]
  },
  {
   "cell_type": "code",
   "execution_count": 65,
   "metadata": {},
   "outputs": [
    {
     "data": {
      "text/plain": [
       "gpu_unpack (generic function with 1 method)"
      ]
     },
     "metadata": {},
     "output_type": "display_data"
    }
   ],
   "source": [
    "function gpu_unpack(p::NamedTuple)\n",
    "\n",
    "    # Create CuArrays\n",
    "    V_d = CuArray{Float64}(zeros(length(p.kgrid)))\n",
    "    Vnew_d = CuArray{Float64}(zeros(length(p.kgrid),length(p.kgrid)))\n",
    "    Vmax_d = CuArray{Float64}(zeros(length(p.kgrid)))\n",
    "    pol_d = CuArray{Int64}(undef, length(p.kgrid))\n",
    "\n",
    "    # Get params\n",
    "    maxiter = p.maxiter\n",
    "    tol = p.tol\n",
    "    γ = p.γ\n",
    "    β = p.β\n",
    "    nk = length(p.kgrid)\n",
    "    \n",
    "    # Initialise consumption\n",
    "    cons_d = p.A .* kgrid_d.^p.α .+ (1 - p.δ) .* kgrid_d .- kgrid_d'\n",
    "    pos_c_d = cons_d .> 0\n",
    "    cons_d .= cons_d .* pos_c_d\n",
    "\n",
    "    # Run VFI\n",
    "    gpu_vfi!(V_d, Vnew_d, Vmax_d, cons_d, pol_d, kgrid_d; maxiter = maxiter, tol = tol, γ = γ, β = β, nk = nk)\n",
    "\n",
    "    return V_d, pol_d\n",
    "end"
   ]
  },
  {
   "cell_type": "code",
   "execution_count": 98,
   "metadata": {},
   "outputs": [
    {
     "data": {
      "text/plain": [
       "gpu_vfi! (generic function with 1 method)"
      ]
     },
     "metadata": {},
     "output_type": "display_data"
    }
   ],
   "source": [
    "function gpu_vfi!(V, Vnew, Vmax, cons, pol, grid; maxiter, tol, γ, β, nk)\n",
    "    error = tol + 1.0\n",
    "    iter = 0\n",
    "    while ((error > tol) && (iter < maxiter))\n",
    "        Vnew = (γ == 1.0 ? log.(cons) : (cons.^(1 - γ) .- 1) ./ (1 - γ)) .+ β .* V\n",
    "        @show Vnew\n",
    "        Vnew = reshape(Vnew, nk*nk)\n",
    "        block_size = 1024\n",
    "        num_blocks = ceil(Int, nk / block_size)\n",
    "        @cuda threads=block_size blocks=num_blocks max_kernel!(Vnew, Vmax, pol, nk)\n",
    "        error = maximum(abs.(Vmax .- V))\n",
    "        @show error\n",
    "        iter = maxiter\n",
    "    end\n",
    "    return V, pol\n",
    "end"
   ]
  },
  {
   "cell_type": "code",
   "execution_count": 99,
   "metadata": {},
   "outputs": [
    {
     "data": {
      "text/plain": [
       "max_kernel! (generic function with 1 method)"
      ]
     },
     "metadata": {},
     "output_type": "display_data"
    }
   ],
   "source": [
    "function max_kernel!(Vnew, Vmax, pol, nk)\n",
    "    idx = (blockIdx().x - 1) * blockDim().x + threadIdx().x\n",
    "    if idx <= nk\n",
    "        row_start = (idx - 1) * nk\n",
    "        max_val = Vnew[row_start + 1]\n",
    "        max_pos = 1\n",
    "        for j in 2:nk\n",
    "            if Vnew[row_start + j] > max_val\n",
    "                max_val = Vnew[row_start + j]\n",
    "                max_pos = j\n",
    "            end\n",
    "        end\n",
    "        Vmax[idx] = max_val\n",
    "        pol[idx] = max_pos\n",
    "    end\n",
    "    return\n",
    "end"
   ]
  },
  {
   "cell_type": "code",
   "execution_count": 100,
   "metadata": {},
   "outputs": [
    {
     "data": {
      "text/plain": [
       "([0.0, 0.0, 0.0, 0.0, 0.0, 0.0, 0.0, 0.0, 0.0, 0.0  …  0.0, 0.0, 0.0, 0.0, 0.0, 0.0, 0.0, 0.0, 0.0, 0.0], [101, 101, 101, 101, 101, 101, 101, 101, 101, 101  …  1, 1, 1, 1, 1, 1, 1, 1, 1, 1])"
      ]
     },
     "metadata": {},
     "output_type": "display_data"
    }
   ],
   "source": [
    "gpu_unpack(p)"
   ]
  }
 ],
 "metadata": {
  "kernelspec": {
   "display_name": "Julia 1.10.1",
   "language": "julia",
   "name": "julia-1.10"
  },
  "language_info": {
   "file_extension": ".jl",
   "mimetype": "application/julia",
   "name": "julia",
   "version": "1.10.1"
  }
 },
 "nbformat": 4,
 "nbformat_minor": 2
}
