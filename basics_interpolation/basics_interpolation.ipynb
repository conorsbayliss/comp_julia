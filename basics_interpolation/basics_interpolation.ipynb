{
 "cells": [
  {
   "cell_type": "code",
   "execution_count": 1,
   "metadata": {},
   "outputs": [],
   "source": [
    "using CairoMakie, LinearAlgebra, Dierckx, Optim"
   ]
  },
  {
   "cell_type": "code",
   "execution_count": 11,
   "metadata": {},
   "outputs": [
    {
     "data": {
      "text/plain": [
       "(α = 0.33, β = 0.9, γ = 1.0, δ = 0.1, A = 2.0, θ = 3.0, grid_size = 101, grid_min = 0.75, grid_max = 1.25, maxiter = 10000, toler = 1.0e-6)"
      ]
     },
     "metadata": {},
     "output_type": "display_data"
    }
   ],
   "source": [
    "pars = (;α = 0.33, # Capital share\n",
    "         β = 0.9, # Discount factor\n",
    "         γ = 1.0, # CRRA parameter\n",
    "         δ = 0.1, # Depreciation rate\n",
    "         A = 2.0, # TFP\n",
    "         θ = 3.0, # Expanding grid parameter\n",
    "         grid_size = 101, # number of gridpoints\n",
    "         grid_min = 0.75, # minimum gridpoint (multiple of steady state capital stock)\n",
    "         grid_max = 1.25, # maximum gridpoint (multiple of steady state capital stock)\n",
    "         maxiter = 10000, # maximum number of iterations\n",
    "         toler = 1e-6) # tolerance"
   ]
  },
  {
   "cell_type": "code",
   "execution_count": 12,
   "metadata": {},
   "outputs": [
    {
     "data": {
      "text/plain": [
       "utility_vec (generic function with 1 method)"
      ]
     },
     "metadata": {},
     "output_type": "display_data"
    }
   ],
   "source": [
    "function utility(c, pars)\n",
    "    if pars.γ == 1\n",
    "        return log(c)\n",
    "    else\n",
    "        return (c^(1-pars.γ))/(1-pars.γ)\n",
    "    end\n",
    "end\n",
    "\n",
    "function utility_vec(c, pars)\n",
    "    if pars.γ == 1\n",
    "        return log.(c)\n",
    "    else\n",
    "        return (c.^(1-pars.γ))./(1-pars.γ)\n",
    "    end\n",
    "end"
   ]
  },
  {
   "cell_type": "code",
   "execution_count": 14,
   "metadata": {},
   "outputs": [
    {
     "data": {
      "text/plain": [
       "exp_grid (generic function with 1 method)"
      ]
     },
     "metadata": {},
     "output_type": "display_data"
    }
   ],
   "source": [
    "function exp_grid(pars)\n",
    "    (; θ, grid_min, grid_max, grid_size, A, α, β, δ) = pars\n",
    "    Kss = ((A*α*β)/(1-β*(1.0-δ)))^(1/(1.0-α)) \n",
    "    grid = LinRange(grid_min*Kss, grid_max*Kss, grid_size)\n",
    "    grid = grid.^θ\n",
    "    return grid\n",
    "end"
   ]
  },
  {
   "cell_type": "code",
   "execution_count": null,
   "metadata": {},
   "outputs": [],
   "source": []
  }
 ],
 "metadata": {
  "kernelspec": {
   "display_name": "Julia 1.10.1",
   "language": "julia",
   "name": "julia-1.10"
  },
  "language_info": {
   "file_extension": ".jl",
   "mimetype": "application/julia",
   "name": "julia",
   "version": "1.10.1"
  }
 },
 "nbformat": 4,
 "nbformat_minor": 2
}
