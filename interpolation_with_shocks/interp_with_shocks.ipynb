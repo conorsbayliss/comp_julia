{
 "cells": [
  {
   "cell_type": "code",
   "execution_count": 2,
   "metadata": {},
   "outputs": [],
   "source": [
    "using CairoMakie, Dierckx, QuantEcon, LinearAlgebra, Optim"
   ]
  },
  {
   "cell_type": "code",
   "execution_count": 10,
   "metadata": {},
   "outputs": [
    {
     "data": {
      "text/plain": [
       "(r = 0.04, β = 0.9, γ = 1.0, nz = 19, ρ = 0.9, μ = 0.0, σ = 0.003, na = 31, θ = 4.0, toler = 4.0e-7, maxiter = 1000, lb = 0.0, ub = 100.0)"
      ]
     },
     "metadata": {},
     "output_type": "display_data"
    }
   ],
   "source": [
    "pars = (;r = 0.04, # interest rate\n",
    "    β = 0.9, # discount factor\n",
    "    γ = 1.0, # risk aversion\n",
    "    nz = 19, # number of grid points for z\n",
    "    ρ = 0.9, # persistence of AR1\n",
    "    μ = 0.0, # mean of AR1\n",
    "    σ = 0.003, # std of AR1\n",
    "    na = 31, # number of asset grid points\n",
    "    θ = 4.0, # grid expansion factor\n",
    "    toler = 4e-7, # tolerance\n",
    "    maxiter = 1000, # maximum no. of iterations\n",
    "    lb = 0.0, # lower bound of capital grid\n",
    "    ub = 100.0) # upper bound of capital grid"
   ]
  },
  {
   "cell_type": "code",
   "execution_count": 8,
   "metadata": {},
   "outputs": [
    {
     "data": {
      "text/plain": [
       "optimise (generic function with 1 method)"
      ]
     },
     "metadata": {},
     "output_type": "display_data"
    }
   ],
   "source": [
    "function utility(c, pars)\n",
    "    (; γ) = pars\n",
    "    if γ == 1.0\n",
    "        return log(c)\n",
    "    else\n",
    "        return c^(1-γ)/(1-γ)\n",
    "    end\n",
    "end\n",
    "\n",
    "function ar1(pars)\n",
    "    (;ρ, μ, σ, nz) = pars\n",
    "    mc = QuantEcon.rouwenhorst(nz, μ, ρ, σ)\n",
    "    return mc.p, mc.state_values\n",
    "end\n",
    "\n",
    "function exp_grid(pars)\n",
    "    (; na, θ, lb, ub) = pars\n",
    "    grid = LinRange(0.0,1.0,na)\n",
    "    exp_grid = lb .+ (ub - lb) .* grid.^θ\n",
    "    return exp_grid\n",
    "end\n",
    "\n",
    "function resources(Avals, Zvals, j, i, pars)\n",
    "    (; r) = pars\n",
    "    return (1+r)*Avals[j] + 3.0 * exp(Zvals[i])\n",
    "end\n",
    "\n",
    "function interpV(Avals, v_slice, pars)\n",
    "    interp_v = Spline1D(Avals, v_slice, k=3, bc=\"extrapolate\")\n",
    "    return interp_v\n",
    "end\n",
    "\n",
    "function optimise(Avals, Zvals, v_init, v_new, policy, Π, pars)\n",
    "    (; β, na, nz, lb, ub) = pars\n",
    "    for i in 1:nz\n",
    "        expected_value = v_init * Π[i,:]\n",
    "        interpolation = interpV(Avals, expected_value, pars)\n",
    "        for j in 1:na\n",
    "            obj(ap) = - (utility(resources(Avals, Zvals, j, i, pars) - ap, pars) + β * interpolation(ap))\n",
    "            ub = resources(Avals, Zvals, j, i, pars)  \n",
    "            res = optimize(obj, lb, ub)\n",
    "            policy[j,i] = res.minimizer\n",
    "            v_new[j,i] = -res.minimum\n",
    "        end\n",
    "    end\n",
    "    return v_new, policy\n",
    "end"
   ]
  },
  {
   "cell_type": "code",
   "execution_count": 16,
   "metadata": {},
   "outputs": [
    {
     "name": "stdout",
     "output_type": "stream",
     "text": [
      "Iterating...\n",
      "--------------------\n",
      "Iteration: 0, Error: 1.0\n",
      "--------------------\n",
      "Iteration: 10, Error: 0.07232557610459449\n",
      "--------------------\n",
      "Iteration: 20, Error: 0.017830838228735674\n",
      "--------------------\n",
      "Iteration: 30, Error: 0.005632459966216119\n",
      "--------------------\n",
      "Iteration: 40, Error: 0.0019012546143692846\n",
      "--------------------\n",
      "Iteration: 50, Error: 0.0006556228447679164\n",
      "--------------------\n",
      "Iteration: 60, Error: 0.0002277264502175254\n",
      "--------------------\n",
      "Iteration: 70, Error: 7.929745145066869e-5\n",
      "--------------------\n",
      "Iteration: 80, Error: 2.763646541205109e-5\n",
      "--------------------\n",
      "Iteration: 90, Error: 9.634678814345413e-6\n",
      "--------------------\n",
      "Iteration: 100, Error: 3.359215060280822e-6\n",
      "--------------------\n",
      "Iteration: 110, Error: 1.17126280304498e-6\n",
      "--------------------\n",
      "Iteration: 120, Error: 4.083912833241455e-7\n",
      "--------------------\n",
      "Converged in 122 iterations\n",
      "--------------------\n",
      "  0.404196 seconds (271.72 k allocations: 36.708 MiB, 2.14% gc time, 33.53% compilation time)\n"
     ]
    },
    {
     "data": {
      "text/plain": [
       "([9.10012555176463 9.524389620476558 … 22.72837553860058 25.27592910178118; 9.102066449032996 9.525659880617907 … 22.728383528913824 25.275935179252116; … ; 22.80547060915417 22.80762456719113 … 27.23492503842318 29.61783108330198; 23.58319569564429 23.585165879297094 … 27.83779814118433 30.447238379442183], [4.0641029986558054e-16 1.0130567851419616e-15 … 73.56428292083669 115.87470022211228; 5.216321015191114e-16 2.6269781648927557e-16 … 73.5643964623109 115.87482130260845; … ; 74.66499555412081 74.69589626482069 … 158.1555864046015 210.9157386358425; 86.34113513617699 86.37207615433597 … 172.26669739779598 226.04246852237583])"
      ]
     },
     "metadata": {},
     "output_type": "display_data"
    }
   ],
   "source": [
    "function vfi(v_init, pars)\n",
    "    (; maxiter, toler, nz, na) = pars\n",
    "    Π, Zvals = ar1(pars)\n",
    "    Avals = exp_grid(pars)\n",
    "    v_new = similar(v_init)\n",
    "    policy = similar(v_init)\n",
    "    error = toler + 1\n",
    "    iter = 0\n",
    "    if iter == 0\n",
    "        println(\"Iterating...\")\n",
    "    end\n",
    "    while ((error > toler) && (iter < maxiter))\n",
    "        v_new, policy = optimise(Avals, Zvals, v_init, v_new, policy, Π, pars)\n",
    "        error = maximum(abs.(v_new - v_init) ./ (1 .+ abs.(v_new)))\n",
    "        v_init .= v_new\n",
    "        if iter % 10 == 0\n",
    "            println(\"--------------------\")\n",
    "            println(\"Iteration: $iter, Error: $error\")\n",
    "        end\n",
    "        iter += 1\n",
    "    end\n",
    "    println(\"--------------------\")\n",
    "    println(\"Converged in $iter iterations\")\n",
    "    println(\"--------------------\")\n",
    "    return v_new, policy\n",
    "end\n",
    "\n",
    "v_init = ones(pars.na, pars.nz)\n",
    "\n",
    "@time begin\n",
    "v_out, pol_out = vfi(v_init, pars)\n",
    "end"
   ]
  }
 ],
 "metadata": {
  "kernelspec": {
   "display_name": "Julia 1.10.1",
   "language": "julia",
   "name": "julia-1.10"
  },
  "language_info": {
   "file_extension": ".jl",
   "mimetype": "application/julia",
   "name": "julia",
   "version": "1.10.1"
  }
 },
 "nbformat": 4,
 "nbformat_minor": 2
}
