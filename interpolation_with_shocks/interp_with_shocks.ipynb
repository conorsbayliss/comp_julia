{
 "cells": [
  {
   "cell_type": "code",
   "execution_count": 1,
   "metadata": {},
   "outputs": [],
   "source": [
    "using CairoMakie, Dierckx, QuantEcon, LinearAlgebra, Optim"
   ]
  },
  {
   "cell_type": "code",
   "execution_count": 8,
   "metadata": {},
   "outputs": [
    {
     "data": {
      "text/plain": [
       "(α = 0.33, β = 0.9, nz = 19, ρ = 0.9, μ = 0.0, σ = 0.1, nk = 31, θ = 3.0)"
      ]
     },
     "metadata": {},
     "output_type": "display_data"
    }
   ],
   "source": [
    "pars = (;α = 0.33, # capital share\n",
    "    β = 0.9, # discount factor\n",
    "    γ = 1.0, # risk aversion\n",
    "    nz = 19, # number of grid points for z\n",
    "    ρ = 0.9, # persistence of AR1\n",
    "    μ = 0.0, # mean of AR1\n",
    "    σ = 0.1, # std of AR1\n",
    "    nk = 31, # number of capital grid points\n",
    "    θ = 3.0) # grid expansion factor"
   ]
  },
  {
   "cell_type": "code",
   "execution_count": 12,
   "metadata": {},
   "outputs": [
    {
     "data": {
      "text/plain": [
       "exp_grid (generic function with 1 method)"
      ]
     },
     "metadata": {},
     "output_type": "display_data"
    }
   ],
   "source": [
    "function utility(c, pars)\n",
    "    (; γ) = pars\n",
    "    if γ == 1.0\n",
    "        return log(c)\n",
    "    else\n",
    "        return c^(1-γ)/(1-γ)\n",
    "    end\n",
    "end\n",
    "\n",
    "function ar1(pars)\n",
    "    (;ρ, μ, σ, nz) = pars\n",
    "    mc = QuantEcon.rouwenhorst(nz, μ, ρ, σ)\n",
    "    return mc.p, mc.state_values\n",
    "end\n",
    "\n",
    "function exp_grid(pars)\n",
    "    (; nk, θ) = pars\n",
    "    grid = LinRange(0.0,1.0,nk)\n",
    "    exp_grid = grid_min + (grid_max - grid_min) * grid.^θ\n",
    "    return exp_grid\n",
    "end"
   ]
  }
 ],
 "metadata": {
  "kernelspec": {
   "display_name": "Julia 1.10.1",
   "language": "julia",
   "name": "julia-1.10"
  },
  "language_info": {
   "file_extension": ".jl",
   "mimetype": "application/julia",
   "name": "julia",
   "version": "1.10.1"
  }
 },
 "nbformat": 4,
 "nbformat_minor": 2
}
