{
 "cells": [
  {
   "cell_type": "code",
   "execution_count": 2,
   "metadata": {},
   "outputs": [],
   "source": [
    "using CairoMakie, Dierckx, QuantEcon, LinearAlgebra, Optim"
   ]
  },
  {
   "cell_type": "code",
   "execution_count": 10,
   "metadata": {},
   "outputs": [
    {
     "data": {
      "text/plain": [
       "(r = 0.04, β = 0.9, γ = 1.0, nz = 19, ρ = 0.9, μ = 0.0, σ = 0.003, na = 31, θ = 4.0, toler = 4.0e-7, maxiter = 1000, lb = 0.0, ub = 100.0)"
      ]
     },
     "metadata": {},
     "output_type": "display_data"
    }
   ],
   "source": [
    "pars = (;r = 0.04, # interest rate\n",
    "    β = 0.9, # discount factor\n",
    "    γ = 1.0, # risk aversion\n",
    "    nz = 19, # number of grid points for z\n",
    "    ρ = 0.9, # persistence of AR1\n",
    "    μ = 0.0, # mean of AR1\n",
    "    σ = 0.003, # std of AR1\n",
    "    na = 31, # number of asset grid points\n",
    "    θ = 4.0, # grid expansion factor\n",
    "    toler = 4e-7, # tolerance\n",
    "    maxiter = 1000, # maximum no. of iterations\n",
    "    lb = 0.0, # lower bound of capital grid\n",
    "    ub = 100.0) # upper bound of capital grid"
   ]
  },
  {
   "cell_type": "code",
   "execution_count": 17,
   "metadata": {},
   "outputs": [
    {
     "data": {
      "text/plain": [
       "optimise (generic function with 1 method)"
      ]
     },
     "metadata": {},
     "output_type": "display_data"
    }
   ],
   "source": [
    "function utility(c, pars)\n",
    "    (; γ) = pars\n",
    "    if γ == 1.0\n",
    "        return log(c)\n",
    "    else\n",
    "        return c^(1-γ)/(1-γ)\n",
    "    end\n",
    "end\n",
    "\n",
    "function ar1(pars)\n",
    "    (;ρ, μ, σ, nz) = pars\n",
    "    mc = QuantEcon.rouwenhorst(nz, μ, ρ, σ)\n",
    "    return mc.p, mc.state_values\n",
    "end\n",
    "\n",
    "function exp_grid(pars)\n",
    "    (; na, θ, lb, ub) = pars\n",
    "    grid = LinRange(0.0,1.0,na)\n",
    "    exp_grid = lb .+ (ub - lb) .* grid.^θ\n",
    "    return exp_grid\n",
    "end\n",
    "\n",
    "function resources(Avals, Zvals, j, i, pars)\n",
    "    (; r) = pars\n",
    "    return (1+r)*Avals[j] + exp(Zvals[i])\n",
    "end\n",
    "\n",
    "function interpV(Avals, v_slice, pars)\n",
    "    interp_v = Spline1D(Avals, v_slice, k=3, bc=\"extrapolate\")\n",
    "    return interp_v\n",
    "end\n",
    "\n",
    "function optimise(Avals, Zvals, v_init, v_new, policy, Π, pars)\n",
    "    (; β, na, nz, lb, ub) = pars\n",
    "    for i in 1:nz\n",
    "        expected_value = v_init * Π[i,:]\n",
    "        interpolation = interpV(Avals, expected_value, pars)\n",
    "        for j in 1:na\n",
    "            obj(ap) = - (utility(resources(Avals, Zvals, j, i, pars) - ap, pars) + β * interpolation(ap))\n",
    "            ub = resources(Avals, Zvals, j, i, pars)  \n",
    "            res = optimize(obj, lb, ub)\n",
    "            policy[j,i] = res.minimizer\n",
    "            v_new[j,i] = -res.minimum\n",
    "        end\n",
    "    end\n",
    "    return v_new, policy\n",
    "end"
   ]
  },
  {
   "cell_type": "code",
   "execution_count": 18,
   "metadata": {},
   "outputs": [
    {
     "name": "stdout",
     "output_type": "stream",
     "text": [
      "Iterating...\n",
      "--------------------\n",
      "Iteration: 0, Error: 1.0\n",
      "--------------------\n",
      "Iteration: 10, Error: 0.056620934285226784\n",
      "--------------------\n",
      "Iteration: 20, Error: 0.02077951046236053\n",
      "--------------------\n",
      "Iteration: 30, Error: 0.007458940374677626\n",
      "--------------------\n",
      "Iteration: 40, Error: 0.002566977218584129\n",
      "--------------------\n",
      "Iteration: 50, Error: 0.0008818118346576934\n",
      "--------------------\n",
      "Iteration: 60, Error: 0.0003058885301452547\n",
      "--------------------\n",
      "Iteration: 70, Error: 0.00010646586038091435\n",
      "--------------------\n",
      "Iteration: 80, Error: 3.709919763745958e-5\n",
      "--------------------\n",
      "Iteration: 90, Error: 1.2932877852399941e-5\n",
      "--------------------\n",
      "Iteration: 100, Error: 4.5090738379743e-6\n",
      "--------------------\n",
      "Iteration: 110, Error: 1.5721752765085055e-6\n",
      "--------------------\n",
      "Iteration: 120, Error: 5.481785708229686e-7\n",
      "--------------------\n",
      "Converged in 124 iterations\n",
      "--------------------\n",
      "  0.681632 seconds (456.06 k allocations: 50.092 MiB, 1.75% gc time, 59.67% compilation time)\n"
     ]
    },
    {
     "data": {
      "text/plain": [
       "([-1.8858597292329349 -1.4615956605209999 … 11.742371003760274 14.28518163601281; -1.8800483022476209 -1.4577897105552562 … 11.742394976347963 14.285199638578943; … ; 19.115558389152305 19.116533602636583 … 21.339553521315906 22.35164457167154; 20.161008539711595 20.16188265442984 … 22.19004592170976 23.15179441523146], [3.5181593885267114e-16 3.200489815799136e-16 … 24.521800780372 38.534996581720705; 3.551605967068761e-16 3.221160938145513e-16 … 24.52191399137461 38.53511024666447; … ; 78.89635212295346 78.90677923975633 … 105.72726133356818 120.30417724944164; 90.70426886351585 90.71470140473004 … 117.86716512271046 132.9640995694287])"
      ]
     },
     "metadata": {},
     "output_type": "display_data"
    }
   ],
   "source": [
    "function vfi(v_init, pars)\n",
    "    (; maxiter, toler, nz, na) = pars\n",
    "    Π, Zvals = ar1(pars)\n",
    "    Avals = exp_grid(pars)\n",
    "    v_new = similar(v_init)\n",
    "    policy = similar(v_init)\n",
    "    error = toler + 1\n",
    "    iter = 0\n",
    "    if iter == 0\n",
    "        println(\"Iterating...\")\n",
    "    end\n",
    "    while ((error > toler) && (iter < maxiter))\n",
    "        v_new, policy = optimise(Avals, Zvals, v_init, v_new, policy, Π, pars)\n",
    "        error = maximum(abs.(v_new - v_init) ./ (1 .+ abs.(v_new)))\n",
    "        v_init .= v_new\n",
    "        if iter % 10 == 0\n",
    "            println(\"--------------------\")\n",
    "            println(\"Iteration: $iter, Error: $error\")\n",
    "        end\n",
    "        iter += 1\n",
    "    end\n",
    "    println(\"--------------------\")\n",
    "    println(\"Converged in $iter iterations\")\n",
    "    println(\"--------------------\")\n",
    "    return v_new, policy\n",
    "end\n",
    "\n",
    "v_init = ones(pars.na, pars.nz)\n",
    "\n",
    "@time begin\n",
    "v_out, pol_out = vfi(v_init, pars)\n",
    "end"
   ]
  }
 ],
 "metadata": {
  "kernelspec": {
   "display_name": "Julia 1.10.1",
   "language": "julia",
   "name": "julia-1.10"
  },
  "language_info": {
   "file_extension": ".jl",
   "mimetype": "application/julia",
   "name": "julia",
   "version": "1.10.1"
  }
 },
 "nbformat": 4,
 "nbformat_minor": 2
}
